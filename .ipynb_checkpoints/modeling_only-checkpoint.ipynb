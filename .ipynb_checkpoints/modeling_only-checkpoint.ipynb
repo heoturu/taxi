{
 "cells": [
  {
   "cell_type": "markdown",
   "metadata": {},
   "source": [
    "# Kaggle : New York City Taxi Trip Duration\n",
    "### Share code and data to improve ride time predictions\n",
    "\n",
    "https://www.kaggle.com/c/nyc-taxi-trip-duration/kernels"
   ]
  },
  {
   "cell_type": "markdown",
   "metadata": {},
   "source": [
    "# 1 EDA (Exploratory Data Analysis)"
   ]
  },
  {
   "cell_type": "markdown",
   "metadata": {},
   "source": [
    "# purpose of  EDA\n",
    "\n",
    "- Suggest hypotheses about the causes of observed phenomena\n",
    "- Assess assumptions on which statistical inference will be based\n",
    "- Support the selection of appropriate statistical tools and techniques\n",
    "- Provide a basis for further data collection through surveys or experiments"
   ]
  },
  {
   "cell_type": "markdown",
   "metadata": {},
   "source": [
    "# EDA methods\n",
    "- Graphical techniques used in EDA are:\n",
    "    - boxplot \n",
    "        - detailed feature (datetime by month, day of week, hours)\n",
    "    - historgram or barplot (distribution) # bin = range of value\n",
    "        - origin feature (pick lat,long, drop lat, long, duration, passenger count, flag)\n",
    "        - detailed feature (datetime by month, day of week, hours)\n",
    "    - scatter plot\n",
    "        - duration vs distance = to check odd data\n",
    "    - Parallel Coordinates vs Colormaps vs Andrews curves charts\n",
    "    - odd ratio????\n",
    "\n",
    "- Quantative methods:\n",
    "    - Trimean == tukey method?"
   ]
  },
  {
   "cell_type": "markdown",
   "metadata": {},
   "source": [
    "# 1.1 Understanding data "
   ]
  },
  {
   "cell_type": "code",
   "execution_count": 1,
   "metadata": {},
   "outputs": [],
   "source": [
    "from IPython.display import display\n",
    "import numpy as np\n",
    "import matplotlib.pyplot as plt\n",
    "import pandas as pd\n",
    "import mglearn\n",
    "import seaborn as sns\n",
    "import ipyleaflet\n",
    "from math import sin, cos, sqrt, atan2, radians\n",
    "import folium\n",
    "import folium.plugins as plugins\n",
    "import os\n",
    "from folium.plugins import MarkerCluster     # Map\n",
    "from geographiclib.geodesic import Geodesic  # Map\n",
    "import time, datetime                        # time data\n",
    "import calendar\n",
    "import scipy\n",
    "\n",
    "\n",
    "%matplotlib inline\n",
    "\n",
    "\n",
    "# machine learning\n",
    "from sklearn.linear_model import LogisticRegression\n",
    "from sklearn.svm import SVC, LinearSVC\n",
    "from sklearn.ensemble import RandomForestClassifier\n",
    "from sklearn.neighbors import KNeighborsClassifier\n",
    "from sklearn.naive_bayes import GaussianNB\n",
    "from sklearn.linear_model import Perceptron\n",
    "from sklearn.linear_model import SGDClassifier\n",
    "from sklearn.tree import DecisionTreeClassifier"
   ]
  },
  {
   "cell_type": "code",
   "execution_count": 2,
   "metadata": {},
   "outputs": [
    {
     "data": {
      "text/html": [
       "<div>\n",
       "<style scoped>\n",
       "    .dataframe tbody tr th:only-of-type {\n",
       "        vertical-align: middle;\n",
       "    }\n",
       "\n",
       "    .dataframe tbody tr th {\n",
       "        vertical-align: top;\n",
       "    }\n",
       "\n",
       "    .dataframe thead th {\n",
       "        text-align: right;\n",
       "    }\n",
       "</style>\n",
       "<table border=\"1\" class=\"dataframe\">\n",
       "  <thead>\n",
       "    <tr style=\"text-align: right;\">\n",
       "      <th></th>\n",
       "      <th>id</th>\n",
       "      <th>vendor_id</th>\n",
       "      <th>pickup_datetime</th>\n",
       "      <th>dropoff_datetime</th>\n",
       "      <th>passenger_count</th>\n",
       "      <th>pickup_longitude</th>\n",
       "      <th>pickup_latitude</th>\n",
       "      <th>dropoff_longitude</th>\n",
       "      <th>dropoff_latitude</th>\n",
       "      <th>store_and_fwd_flag</th>\n",
       "      <th>trip_duration</th>\n",
       "    </tr>\n",
       "  </thead>\n",
       "  <tbody>\n",
       "    <tr>\n",
       "      <th>0</th>\n",
       "      <td>id2875421</td>\n",
       "      <td>2</td>\n",
       "      <td>2016-03-14 17:24:55</td>\n",
       "      <td>2016-03-14 17:32:30</td>\n",
       "      <td>1</td>\n",
       "      <td>-73.982155</td>\n",
       "      <td>40.767937</td>\n",
       "      <td>-73.964630</td>\n",
       "      <td>40.765602</td>\n",
       "      <td>N</td>\n",
       "      <td>455</td>\n",
       "    </tr>\n",
       "    <tr>\n",
       "      <th>1</th>\n",
       "      <td>id2377394</td>\n",
       "      <td>1</td>\n",
       "      <td>2016-06-12 00:43:35</td>\n",
       "      <td>2016-06-12 00:54:38</td>\n",
       "      <td>1</td>\n",
       "      <td>-73.980415</td>\n",
       "      <td>40.738564</td>\n",
       "      <td>-73.999481</td>\n",
       "      <td>40.731152</td>\n",
       "      <td>N</td>\n",
       "      <td>663</td>\n",
       "    </tr>\n",
       "    <tr>\n",
       "      <th>2</th>\n",
       "      <td>id3858529</td>\n",
       "      <td>2</td>\n",
       "      <td>2016-01-19 11:35:24</td>\n",
       "      <td>2016-01-19 12:10:48</td>\n",
       "      <td>1</td>\n",
       "      <td>-73.979027</td>\n",
       "      <td>40.763939</td>\n",
       "      <td>-74.005333</td>\n",
       "      <td>40.710087</td>\n",
       "      <td>N</td>\n",
       "      <td>2124</td>\n",
       "    </tr>\n",
       "    <tr>\n",
       "      <th>3</th>\n",
       "      <td>id3504673</td>\n",
       "      <td>2</td>\n",
       "      <td>2016-04-06 19:32:31</td>\n",
       "      <td>2016-04-06 19:39:40</td>\n",
       "      <td>1</td>\n",
       "      <td>-74.010040</td>\n",
       "      <td>40.719971</td>\n",
       "      <td>-74.012268</td>\n",
       "      <td>40.706718</td>\n",
       "      <td>N</td>\n",
       "      <td>429</td>\n",
       "    </tr>\n",
       "    <tr>\n",
       "      <th>4</th>\n",
       "      <td>id2181028</td>\n",
       "      <td>2</td>\n",
       "      <td>2016-03-26 13:30:55</td>\n",
       "      <td>2016-03-26 13:38:10</td>\n",
       "      <td>1</td>\n",
       "      <td>-73.973053</td>\n",
       "      <td>40.793209</td>\n",
       "      <td>-73.972923</td>\n",
       "      <td>40.782520</td>\n",
       "      <td>N</td>\n",
       "      <td>435</td>\n",
       "    </tr>\n",
       "  </tbody>\n",
       "</table>\n",
       "</div>"
      ],
      "text/plain": [
       "          id  vendor_id      pickup_datetime     dropoff_datetime  \\\n",
       "0  id2875421          2  2016-03-14 17:24:55  2016-03-14 17:32:30   \n",
       "1  id2377394          1  2016-06-12 00:43:35  2016-06-12 00:54:38   \n",
       "2  id3858529          2  2016-01-19 11:35:24  2016-01-19 12:10:48   \n",
       "3  id3504673          2  2016-04-06 19:32:31  2016-04-06 19:39:40   \n",
       "4  id2181028          2  2016-03-26 13:30:55  2016-03-26 13:38:10   \n",
       "\n",
       "   passenger_count  pickup_longitude  pickup_latitude  dropoff_longitude  \\\n",
       "0                1        -73.982155        40.767937         -73.964630   \n",
       "1                1        -73.980415        40.738564         -73.999481   \n",
       "2                1        -73.979027        40.763939         -74.005333   \n",
       "3                1        -74.010040        40.719971         -74.012268   \n",
       "4                1        -73.973053        40.793209         -73.972923   \n",
       "\n",
       "   dropoff_latitude store_and_fwd_flag  trip_duration  \n",
       "0         40.765602                  N            455  \n",
       "1         40.731152                  N            663  \n",
       "2         40.710087                  N           2124  \n",
       "3         40.706718                  N            429  \n",
       "4         40.782520                  N            435  "
      ]
     },
     "execution_count": 2,
     "metadata": {},
     "output_type": "execute_result"
    }
   ],
   "source": [
    "train = pd.read_csv(\"~/Documents/data/taxi_data/train.csv\")\n",
    "train.head()"
   ]
  },
  {
   "cell_type": "code",
   "execution_count": 3,
   "metadata": {},
   "outputs": [
    {
     "data": {
      "text/html": [
       "<div>\n",
       "<style scoped>\n",
       "    .dataframe tbody tr th:only-of-type {\n",
       "        vertical-align: middle;\n",
       "    }\n",
       "\n",
       "    .dataframe tbody tr th {\n",
       "        vertical-align: top;\n",
       "    }\n",
       "\n",
       "    .dataframe thead th {\n",
       "        text-align: right;\n",
       "    }\n",
       "</style>\n",
       "<table border=\"1\" class=\"dataframe\">\n",
       "  <thead>\n",
       "    <tr style=\"text-align: right;\">\n",
       "      <th></th>\n",
       "      <th>id</th>\n",
       "      <th>vendor_id</th>\n",
       "      <th>pickup_datetime</th>\n",
       "      <th>passenger_count</th>\n",
       "      <th>pickup_longitude</th>\n",
       "      <th>pickup_latitude</th>\n",
       "      <th>dropoff_longitude</th>\n",
       "      <th>dropoff_latitude</th>\n",
       "      <th>store_and_fwd_flag</th>\n",
       "    </tr>\n",
       "  </thead>\n",
       "  <tbody>\n",
       "    <tr>\n",
       "      <th>0</th>\n",
       "      <td>id3004672</td>\n",
       "      <td>1</td>\n",
       "      <td>2016-06-30 23:59:58</td>\n",
       "      <td>1</td>\n",
       "      <td>-73.988129</td>\n",
       "      <td>40.732029</td>\n",
       "      <td>-73.990173</td>\n",
       "      <td>40.756680</td>\n",
       "      <td>N</td>\n",
       "    </tr>\n",
       "    <tr>\n",
       "      <th>1</th>\n",
       "      <td>id3505355</td>\n",
       "      <td>1</td>\n",
       "      <td>2016-06-30 23:59:53</td>\n",
       "      <td>1</td>\n",
       "      <td>-73.964203</td>\n",
       "      <td>40.679993</td>\n",
       "      <td>-73.959808</td>\n",
       "      <td>40.655403</td>\n",
       "      <td>N</td>\n",
       "    </tr>\n",
       "    <tr>\n",
       "      <th>2</th>\n",
       "      <td>id1217141</td>\n",
       "      <td>1</td>\n",
       "      <td>2016-06-30 23:59:47</td>\n",
       "      <td>1</td>\n",
       "      <td>-73.997437</td>\n",
       "      <td>40.737583</td>\n",
       "      <td>-73.986160</td>\n",
       "      <td>40.729523</td>\n",
       "      <td>N</td>\n",
       "    </tr>\n",
       "    <tr>\n",
       "      <th>3</th>\n",
       "      <td>id2150126</td>\n",
       "      <td>2</td>\n",
       "      <td>2016-06-30 23:59:41</td>\n",
       "      <td>1</td>\n",
       "      <td>-73.956070</td>\n",
       "      <td>40.771900</td>\n",
       "      <td>-73.986427</td>\n",
       "      <td>40.730469</td>\n",
       "      <td>N</td>\n",
       "    </tr>\n",
       "    <tr>\n",
       "      <th>4</th>\n",
       "      <td>id1598245</td>\n",
       "      <td>1</td>\n",
       "      <td>2016-06-30 23:59:33</td>\n",
       "      <td>1</td>\n",
       "      <td>-73.970215</td>\n",
       "      <td>40.761475</td>\n",
       "      <td>-73.961510</td>\n",
       "      <td>40.755890</td>\n",
       "      <td>N</td>\n",
       "    </tr>\n",
       "  </tbody>\n",
       "</table>\n",
       "</div>"
      ],
      "text/plain": [
       "          id  vendor_id      pickup_datetime  passenger_count  \\\n",
       "0  id3004672          1  2016-06-30 23:59:58                1   \n",
       "1  id3505355          1  2016-06-30 23:59:53                1   \n",
       "2  id1217141          1  2016-06-30 23:59:47                1   \n",
       "3  id2150126          2  2016-06-30 23:59:41                1   \n",
       "4  id1598245          1  2016-06-30 23:59:33                1   \n",
       "\n",
       "   pickup_longitude  pickup_latitude  dropoff_longitude  dropoff_latitude  \\\n",
       "0        -73.988129        40.732029         -73.990173         40.756680   \n",
       "1        -73.964203        40.679993         -73.959808         40.655403   \n",
       "2        -73.997437        40.737583         -73.986160         40.729523   \n",
       "3        -73.956070        40.771900         -73.986427         40.730469   \n",
       "4        -73.970215        40.761475         -73.961510         40.755890   \n",
       "\n",
       "  store_and_fwd_flag  \n",
       "0                  N  \n",
       "1                  N  \n",
       "2                  N  \n",
       "3                  N  \n",
       "4                  N  "
      ]
     },
     "execution_count": 3,
     "metadata": {},
     "output_type": "execute_result"
    }
   ],
   "source": [
    "test = pd.read_csv(\"~/Documents/data/taxi_data/test.csv\")\n",
    "test.head()"
   ]
  },
  {
   "cell_type": "markdown",
   "metadata": {},
   "source": [
    "# 1.1.a Data type and unit"
   ]
  },
  {
   "cell_type": "markdown",
   "metadata": {},
   "source": [
    "# unit\n",
    "\n",
    "### latitude / longtitude = decimal degree (111.32mm per 0.000001°)\n",
    "- ex) 40.767937 / -73.982155\n",
    "\n",
    "### duration = sec\n",
    "- ex) 455 sec = 7min 35sec\n",
    "\n",
    "### vendor_id = 1, 2\n",
    "\n",
    "### passenger_count = 0,,,,9"
   ]
  },
  {
   "cell_type": "code",
   "execution_count": 4,
   "metadata": {
    "scrolled": true
   },
   "outputs": [
    {
     "name": "stdout",
     "output_type": "stream",
     "text": [
      "<class 'pandas.core.frame.DataFrame'>\n",
      "RangeIndex: 1458644 entries, 0 to 1458643\n",
      "Data columns (total 11 columns):\n",
      "id                    1458644 non-null object\n",
      "vendor_id             1458644 non-null int64\n",
      "pickup_datetime       1458644 non-null object\n",
      "dropoff_datetime      1458644 non-null object\n",
      "passenger_count       1458644 non-null int64\n",
      "pickup_longitude      1458644 non-null float64\n",
      "pickup_latitude       1458644 non-null float64\n",
      "dropoff_longitude     1458644 non-null float64\n",
      "dropoff_latitude      1458644 non-null float64\n",
      "store_and_fwd_flag    1458644 non-null object\n",
      "trip_duration         1458644 non-null int64\n",
      "dtypes: float64(4), int64(3), object(4)\n",
      "memory usage: 122.4+ MB\n"
     ]
    }
   ],
   "source": [
    "train.info()"
   ]
  },
  {
   "cell_type": "code",
   "execution_count": 5,
   "metadata": {},
   "outputs": [
    {
     "name": "stdout",
     "output_type": "stream",
     "text": [
      "<class 'pandas.core.frame.DataFrame'>\n",
      "RangeIndex: 625134 entries, 0 to 625133\n",
      "Data columns (total 9 columns):\n",
      "id                    625134 non-null object\n",
      "vendor_id             625134 non-null int64\n",
      "pickup_datetime       625134 non-null object\n",
      "passenger_count       625134 non-null int64\n",
      "pickup_longitude      625134 non-null float64\n",
      "pickup_latitude       625134 non-null float64\n",
      "dropoff_longitude     625134 non-null float64\n",
      "dropoff_latitude      625134 non-null float64\n",
      "store_and_fwd_flag    625134 non-null object\n",
      "dtypes: float64(4), int64(2), object(3)\n",
      "memory usage: 42.9+ MB\n"
     ]
    }
   ],
   "source": [
    "test.info()"
   ]
  },
  {
   "cell_type": "code",
   "execution_count": 6,
   "metadata": {},
   "outputs": [],
   "source": [
    "# train.describe()"
   ]
  },
  {
   "cell_type": "code",
   "execution_count": 7,
   "metadata": {},
   "outputs": [
    {
     "data": {
      "text/plain": [
       "959.4923"
      ]
     },
     "execution_count": 7,
     "metadata": {},
     "output_type": "execute_result"
    }
   ],
   "source": [
    "9.594923e+02"
   ]
  },
  {
   "cell_type": "markdown",
   "metadata": {},
   "source": [
    "# 1.1.b Missing Data check"
   ]
  },
  {
   "cell_type": "code",
   "execution_count": 8,
   "metadata": {},
   "outputs": [
    {
     "data": {
      "text/plain": [
       "True"
      ]
     },
     "execution_count": 8,
     "metadata": {},
     "output_type": "execute_result"
    }
   ],
   "source": [
    "#none of missing data\n",
    "train2 = train.dropna(how = 'any')\n",
    "\n",
    "len(train) == len(train2)"
   ]
  },
  {
   "cell_type": "code",
   "execution_count": 9,
   "metadata": {},
   "outputs": [
    {
     "data": {
      "text/plain": [
       "True"
      ]
     },
     "execution_count": 9,
     "metadata": {},
     "output_type": "execute_result"
    }
   ],
   "source": [
    "#none of missing data\n",
    "test2 = test.dropna(how = 'any')\n",
    "\n",
    "len(test) == len(test2)"
   ]
  },
  {
   "cell_type": "markdown",
   "metadata": {},
   "source": [
    "### NYC Taxi Trip Duration [Train data]는\n",
    "\n",
    "### 총 1,458,644 Row와 11 Column으로 구성되어 있으며,\n",
    "\n",
    "### Missing Data는 존재하지 않습니다."
   ]
  },
  {
   "cell_type": "markdown",
   "metadata": {},
   "source": [
    "# 1.1.c Column information"
   ]
  },
  {
   "cell_type": "markdown",
   "metadata": {},
   "source": [
    "- id : 개별 Taxi에 부여된 고유 id (이건 그냥 쓴거예요...)\n",
    "- verdor_id : Taxi Company id >>>  1, 2로 구성되어 있는걸로 봐서 2개의 회사를 대상\n",
    "- pickup/dropoff datetime : 출발/도착 시간정보 >> 년, 월, 일, 시각 정보가 포함\n",
    "- passenger_count : 승객수 >>> 0~9명까지 존재\n",
    "- pickup/dropoff_longitude & latitude : 출발/도착 지리정보\n",
    "- store_and_fwd_flag : whether the trip data was sent immediately to the vendor (“N”) or held in the memory of the taxi because there was no connection to the server (“Y”)\n",
    "- trip_duration : 탑승시간 >>> 단위는 Seconds"
   ]
  },
  {
   "cell_type": "markdown",
   "metadata": {},
   "source": [
    "# 1.2 Feature Engineering & Data Cleaning"
   ]
  },
  {
   "cell_type": "markdown",
   "metadata": {},
   "source": [
    "### 1.2.a Add columns with detailed informations\n"
   ]
  },
  {
   "cell_type": "markdown",
   "metadata": {},
   "source": [
    "- duration per min\n",
    "- datetime per hour\n",
    "- datetime per day of week\n",
    "- datetime per month"
   ]
  },
  {
   "cell_type": "markdown",
   "metadata": {},
   "source": [
    "# drop \"dropoff_datetime\" column"
   ]
  },
  {
   "cell_type": "code",
   "execution_count": 10,
   "metadata": {},
   "outputs": [],
   "source": [
    "train = train.drop(\"dropoff_datetime\", axis=1)"
   ]
  },
  {
   "cell_type": "code",
   "execution_count": 11,
   "metadata": {},
   "outputs": [],
   "source": [
    "#data type convert to datetime from object\n",
    "train[\"pickup_datetime\"] =  pd.to_datetime(train[\"pickup_datetime\"])\n",
    "# train[\"dropoff_datetime\"] =  pd.to_datetime(train[\"dropoff_datetime\"])"
   ]
  },
  {
   "cell_type": "code",
   "execution_count": 12,
   "metadata": {},
   "outputs": [],
   "source": [
    "#data type convert to datetime from object\n",
    "#not exist dropoff data\n",
    "test[\"pickup_datetime\"] =  pd.to_datetime(test[\"pickup_datetime\"])"
   ]
  },
  {
   "cell_type": "code",
   "execution_count": 13,
   "metadata": {},
   "outputs": [],
   "source": [
    "#day of week\n",
    "#Monday=0, Sunday=6\n",
    "train[\"pick_dayofweek\"] = train[\"pickup_datetime\"].dt.dayofweek\n",
    "# train[\"drop_dayofweek\"] = train[\"dropoff_datetime\"].dt.dayofweek.astype(\"int\")\n",
    "\n",
    "#date by month\n",
    "train[\"pick_dayofmonth\"] = train[\"pickup_datetime\"].dt.month\n",
    "# train[\"drop_dayofmonth\"] = train[\"dropoff_datetime\"].dt.month.astype(\"int\")\n",
    "\n",
    "# #date by hour\n",
    "train[\"pick_datehour\"] = train[\"pickup_datetime\"].dt.hour\n",
    "# # train[\"drop_datehour\"] = train[\"dropoff_datetime\"].dt.hour.astype(\"int\")"
   ]
  },
  {
   "cell_type": "code",
   "execution_count": 14,
   "metadata": {},
   "outputs": [],
   "source": [
    "# #date time convert to sec\n",
    "# train[\"pickup_sec\"] = train[\"pickup_datetime\"] - train[\"pick_dayofweek\"]"
   ]
  },
  {
   "cell_type": "code",
   "execution_count": 15,
   "metadata": {},
   "outputs": [],
   "source": [
    "#day of week\n",
    "#Monday=0, Sunday=6\n",
    "test[\"pick_dayofweek\"] = test[\"pickup_datetime\"].dt.dayofweek\n",
    "\n",
    "#date by month\n",
    "test[\"pick_dayofmonth\"] = test[\"pickup_datetime\"].dt.month\n",
    "\n",
    "#date by hour\n",
    "test[\"pick_datehour\"] = test[\"pickup_datetime\"].dt.hour"
   ]
  },
  {
   "cell_type": "markdown",
   "metadata": {},
   "source": [
    "# 1.2.b Distance between pickup and dropoff location"
   ]
  },
  {
   "cell_type": "code",
   "execution_count": 16,
   "metadata": {},
   "outputs": [],
   "source": [
    "# approximate radius of earth in km\n",
    "R = 6371.0\n",
    "\n",
    "dist = []\n",
    "\n",
    "for i in range(len(train)):\n",
    "    lat1 = radians(train.iloc[i,5])\n",
    "    lon1 = radians(train.iloc[i,4])\n",
    "    lat2 = radians(train.iloc[i,7])\n",
    "    lon2 = radians(train.iloc[i,6])\n",
    "\n",
    "    dlon = lon2 - lon1\n",
    "    dlat = lat2 - lat1\n",
    "\n",
    "    a = sin(dlat / 2)**2 + cos(lat1) * cos(lat2) * sin(dlon / 2)**2\n",
    "    c = 2 * atan2(sqrt(a), sqrt(1 - a))\n",
    "\n",
    "    distance = R * c\n",
    "    dist.append(distance)\n",
    "    \n",
    "train['distance'] = dist"
   ]
  },
  {
   "cell_type": "code",
   "execution_count": 17,
   "metadata": {},
   "outputs": [],
   "source": [
    "# approximate radius of earth in km\n",
    "R = 6371.0\n",
    "\n",
    "dist = []\n",
    "\n",
    "for i in range(len(test)):\n",
    "    lat1 = radians(test.iloc[i,5])\n",
    "    lon1 = radians(test.iloc[i,4])\n",
    "    lat2 = radians(test.iloc[i,7])\n",
    "    lon2 = radians(test.iloc[i,6])\n",
    "\n",
    "    dlon = lon2 - lon1\n",
    "    dlat = lat2 - lat1\n",
    "\n",
    "    a = sin(dlat / 2)**2 + cos(lat1) * cos(lat2) * sin(dlon / 2)**2\n",
    "    c = 2 * atan2(sqrt(a), sqrt(1 - a))\n",
    "\n",
    "    distance = R * c\n",
    "    dist.append(distance)\n",
    "    \n",
    "test['distance'] = dist"
   ]
  },
  {
   "cell_type": "markdown",
   "metadata": {},
   "source": [
    "# 1.2.c Outlier Removal"
   ]
  },
  {
   "cell_type": "code",
   "execution_count": 18,
   "metadata": {},
   "outputs": [],
   "source": [
    "#outlier IQR method\n",
    "#out of 75 percent value\n",
    "train_1 = pd.DataFrame.quantile(train, q = 0.75)\n",
    "train_1\n",
    "\n",
    "#out of 25 percent value\n",
    "train_3 = pd.DataFrame.quantile(train, q = 0.25)\n",
    "train_3\n",
    "\n",
    "iqr = train_3 - train_1\n",
    "iqr\n",
    "\n",
    "lower_bound = train_1 - (iqr * 1.5)\n",
    "upper_bound = train_3 + (iqr * 1.5)"
   ]
  },
  {
   "cell_type": "code",
   "execution_count": 19,
   "metadata": {},
   "outputs": [],
   "source": [
    "#removal outliers by IQR method\n",
    "#time data has not been modified\n",
    "train = train[train['pickup_longitude'] <= lower_bound[\"pickup_longitude\"]]\n",
    "train = train[train['pickup_longitude'] >= upper_bound[\"pickup_longitude\"]]\n",
    "train = train[train['pickup_latitude'] <= lower_bound[\"pickup_latitude\"]]\n",
    "train = train[train['pickup_latitude'] >= upper_bound[\"pickup_latitude\"]]\n",
    "train = train[train['dropoff_longitude'] <= lower_bound[\"dropoff_longitude\"]]\n",
    "train = train[train['dropoff_longitude'] >= upper_bound[\"dropoff_longitude\"]]\n",
    "train = train[train['dropoff_latitude'] <= lower_bound[\"dropoff_latitude\"]]\n",
    "train = train[train['dropoff_latitude'] >= upper_bound[\"dropoff_latitude\"]]\n",
    "train = train[train['trip_duration'] <= lower_bound[\"trip_duration\"]]\n",
    "train = train[train['trip_duration'] >= upper_bound[\"trip_duration\"]]\n",
    "train = train[train['distance'] <= lower_bound[\"distance\"]]\n",
    "train = train[train['distance'] >= upper_bound[\"distance\"]]"
   ]
  },
  {
   "cell_type": "code",
   "execution_count": 20,
   "metadata": {},
   "outputs": [],
   "source": [
    "# #outlier IQR method\n",
    "# #out of 75 percent value\n",
    "# test_1 = pd.DataFrame.quantile(test, q = 0.75)\n",
    "# test_1\n",
    "\n",
    "# #out of 25 percent value\n",
    "# test_3 = pd.DataFrame.quantile(test, q = 0.25)\n",
    "# test_3\n",
    "\n",
    "# iqr = test_3 - test_1\n",
    "# iqr\n",
    "\n",
    "# lower_bound = test_1 - (iqr * 1.5)\n",
    "# upper_bound = test_3 + (iqr * 1.5)"
   ]
  },
  {
   "cell_type": "code",
   "execution_count": 21,
   "metadata": {},
   "outputs": [],
   "source": [
    "# #removal outliers by IQR method\n",
    "# #time data has not been modified\n",
    "# test = test[test['pickup_longitude'] <= lower_bound[\"pickup_longitude\"]]\n",
    "# test = test[test['pickup_longitude'] >= upper_bound[\"pickup_longitude\"]]\n",
    "# test = test[test['pickup_latitude'] <= lower_bound[\"pickup_latitude\"]]\n",
    "# test = test[test['pickup_latitude'] >= upper_bound[\"pickup_latitude\"]]\n",
    "# test = test[test['dropoff_longitude'] <= lower_bound[\"dropoff_longitude\"]]\n",
    "# test = test[test['dropoff_longitude'] >= upper_bound[\"dropoff_longitude\"]]\n",
    "# test = test[test['dropoff_latitude'] <= lower_bound[\"dropoff_latitude\"]]\n",
    "# test = test[test['dropoff_latitude'] >= upper_bound[\"dropoff_latitude\"]]\n",
    "# test = test[test['distance'] <= lower_bound[\"distance\"]]\n",
    "# test = test[test['distance'] >= upper_bound[\"distance\"]]"
   ]
  },
  {
   "cell_type": "markdown",
   "metadata": {},
   "source": [
    "# ##categorical data convert encoding"
   ]
  },
  {
   "cell_type": "code",
   "execution_count": 27,
   "metadata": {},
   "outputs": [
    {
     "data": {
      "text/html": [
       "<div>\n",
       "<style scoped>\n",
       "    .dataframe tbody tr th:only-of-type {\n",
       "        vertical-align: middle;\n",
       "    }\n",
       "\n",
       "    .dataframe tbody tr th {\n",
       "        vertical-align: top;\n",
       "    }\n",
       "\n",
       "    .dataframe thead th {\n",
       "        text-align: right;\n",
       "    }\n",
       "</style>\n",
       "<table border=\"1\" class=\"dataframe\">\n",
       "  <thead>\n",
       "    <tr style=\"text-align: right;\">\n",
       "      <th></th>\n",
       "      <th>id</th>\n",
       "      <th>vendor_id</th>\n",
       "      <th>pickup_datetime</th>\n",
       "      <th>passenger_count</th>\n",
       "      <th>pickup_longitude</th>\n",
       "      <th>pickup_latitude</th>\n",
       "      <th>dropoff_longitude</th>\n",
       "      <th>dropoff_latitude</th>\n",
       "      <th>store_and_fwd_flag</th>\n",
       "      <th>trip_duration</th>\n",
       "      <th>pick_dayofweek</th>\n",
       "      <th>pick_dayofmonth</th>\n",
       "      <th>pick_datehour</th>\n",
       "      <th>distance</th>\n",
       "    </tr>\n",
       "  </thead>\n",
       "  <tbody>\n",
       "    <tr>\n",
       "      <th>100879</th>\n",
       "      <td>id0673821</td>\n",
       "      <td>2</td>\n",
       "      <td>2016-03-19 20:53:44</td>\n",
       "      <td>2</td>\n",
       "      <td>-73.990944</td>\n",
       "      <td>40.732998</td>\n",
       "      <td>-73.944931</td>\n",
       "      <td>40.774727</td>\n",
       "      <td>N</td>\n",
       "      <td>1467</td>\n",
       "      <td>5</td>\n",
       "      <td>3</td>\n",
       "      <td>20</td>\n",
       "      <td>6.045803</td>\n",
       "    </tr>\n",
       "    <tr>\n",
       "      <th>203245</th>\n",
       "      <td>id3465534</td>\n",
       "      <td>2</td>\n",
       "      <td>2016-04-25 14:31:34</td>\n",
       "      <td>2</td>\n",
       "      <td>-73.982185</td>\n",
       "      <td>40.752148</td>\n",
       "      <td>-73.988281</td>\n",
       "      <td>40.742992</td>\n",
       "      <td>N</td>\n",
       "      <td>331</td>\n",
       "      <td>0</td>\n",
       "      <td>4</td>\n",
       "      <td>14</td>\n",
       "      <td>1.140205</td>\n",
       "    </tr>\n",
       "    <tr>\n",
       "      <th>1133010</th>\n",
       "      <td>id1354600</td>\n",
       "      <td>1</td>\n",
       "      <td>2016-05-04 16:35:10</td>\n",
       "      <td>1</td>\n",
       "      <td>-73.969307</td>\n",
       "      <td>40.760986</td>\n",
       "      <td>-73.978966</td>\n",
       "      <td>40.747524</td>\n",
       "      <td>N</td>\n",
       "      <td>357</td>\n",
       "      <td>2</td>\n",
       "      <td>5</td>\n",
       "      <td>16</td>\n",
       "      <td>1.703721</td>\n",
       "    </tr>\n",
       "    <tr>\n",
       "      <th>1102498</th>\n",
       "      <td>id0962434</td>\n",
       "      <td>1</td>\n",
       "      <td>2016-01-14 04:30:56</td>\n",
       "      <td>1</td>\n",
       "      <td>-73.981865</td>\n",
       "      <td>40.758327</td>\n",
       "      <td>-73.991219</td>\n",
       "      <td>40.750141</td>\n",
       "      <td>N</td>\n",
       "      <td>221</td>\n",
       "      <td>3</td>\n",
       "      <td>1</td>\n",
       "      <td>4</td>\n",
       "      <td>1.203892</td>\n",
       "    </tr>\n",
       "    <tr>\n",
       "      <th>557489</th>\n",
       "      <td>id1750356</td>\n",
       "      <td>2</td>\n",
       "      <td>2016-06-07 08:09:01</td>\n",
       "      <td>6</td>\n",
       "      <td>-73.959686</td>\n",
       "      <td>40.808899</td>\n",
       "      <td>-73.975456</td>\n",
       "      <td>40.764610</td>\n",
       "      <td>N</td>\n",
       "      <td>1838</td>\n",
       "      <td>1</td>\n",
       "      <td>6</td>\n",
       "      <td>8</td>\n",
       "      <td>5.100504</td>\n",
       "    </tr>\n",
       "  </tbody>\n",
       "</table>\n",
       "</div>"
      ],
      "text/plain": [
       "                id  vendor_id     pickup_datetime  passenger_count  \\\n",
       "100879   id0673821          2 2016-03-19 20:53:44                2   \n",
       "203245   id3465534          2 2016-04-25 14:31:34                2   \n",
       "1133010  id1354600          1 2016-05-04 16:35:10                1   \n",
       "1102498  id0962434          1 2016-01-14 04:30:56                1   \n",
       "557489   id1750356          2 2016-06-07 08:09:01                6   \n",
       "\n",
       "         pickup_longitude  pickup_latitude  dropoff_longitude  \\\n",
       "100879         -73.990944        40.732998         -73.944931   \n",
       "203245         -73.982185        40.752148         -73.988281   \n",
       "1133010        -73.969307        40.760986         -73.978966   \n",
       "1102498        -73.981865        40.758327         -73.991219   \n",
       "557489         -73.959686        40.808899         -73.975456   \n",
       "\n",
       "         dropoff_latitude store_and_fwd_flag  trip_duration  pick_dayofweek  \\\n",
       "100879          40.774727                  N           1467               5   \n",
       "203245          40.742992                  N            331               0   \n",
       "1133010         40.747524                  N            357               2   \n",
       "1102498         40.750141                  N            221               3   \n",
       "557489          40.764610                  N           1838               1   \n",
       "\n",
       "         pick_dayofmonth  pick_datehour  distance  \n",
       "100879                 3             20  6.045803  \n",
       "203245                 4             14  1.140205  \n",
       "1133010                5             16  1.703721  \n",
       "1102498                1              4  1.203892  \n",
       "557489                 6              8  5.100504  "
      ]
     },
     "execution_count": 27,
     "metadata": {},
     "output_type": "execute_result"
    }
   ],
   "source": [
    "train.head()"
   ]
  },
  {
   "cell_type": "code",
   "execution_count": 24,
   "metadata": {},
   "outputs": [
    {
     "name": "stdout",
     "output_type": "stream",
     "text": [
      "<class 'pandas.core.frame.DataFrame'>\n",
      "Int64Index: 1236151 entries, 0 to 1458643\n",
      "Data columns (total 44 columns):\n",
      "id                      1236151 non-null object\n",
      "vendor_id               1236151 non-null int64\n",
      "pickup_datetime         1236151 non-null datetime64[ns]\n",
      "passenger_count         1236151 non-null int64\n",
      "pickup_longitude        1236151 non-null float64\n",
      "pickup_latitude         1236151 non-null float64\n",
      "dropoff_longitude       1236151 non-null float64\n",
      "dropoff_latitude        1236151 non-null float64\n",
      "trip_duration           1236151 non-null int64\n",
      "pick_dayofmonth         1236151 non-null int64\n",
      "distance                1236151 non-null float64\n",
      "pick_dayofweek_0        1236151 non-null uint8\n",
      "pick_dayofweek_1        1236151 non-null uint8\n",
      "pick_dayofweek_2        1236151 non-null uint8\n",
      "pick_dayofweek_3        1236151 non-null uint8\n",
      "pick_dayofweek_4        1236151 non-null uint8\n",
      "pick_dayofweek_5        1236151 non-null uint8\n",
      "pick_dayofweek_6        1236151 non-null uint8\n",
      "pick_datehour_0         1236151 non-null uint8\n",
      "pick_datehour_1         1236151 non-null uint8\n",
      "pick_datehour_2         1236151 non-null uint8\n",
      "pick_datehour_3         1236151 non-null uint8\n",
      "pick_datehour_4         1236151 non-null uint8\n",
      "pick_datehour_5         1236151 non-null uint8\n",
      "pick_datehour_6         1236151 non-null uint8\n",
      "pick_datehour_7         1236151 non-null uint8\n",
      "pick_datehour_8         1236151 non-null uint8\n",
      "pick_datehour_9         1236151 non-null uint8\n",
      "pick_datehour_10        1236151 non-null uint8\n",
      "pick_datehour_11        1236151 non-null uint8\n",
      "pick_datehour_12        1236151 non-null uint8\n",
      "pick_datehour_13        1236151 non-null uint8\n",
      "pick_datehour_14        1236151 non-null uint8\n",
      "pick_datehour_15        1236151 non-null uint8\n",
      "pick_datehour_16        1236151 non-null uint8\n",
      "pick_datehour_17        1236151 non-null uint8\n",
      "pick_datehour_18        1236151 non-null uint8\n",
      "pick_datehour_19        1236151 non-null uint8\n",
      "pick_datehour_20        1236151 non-null uint8\n",
      "pick_datehour_21        1236151 non-null uint8\n",
      "pick_datehour_22        1236151 non-null uint8\n",
      "pick_datehour_23        1236151 non-null uint8\n",
      "store_and_fwd_flag_N    1236151 non-null uint8\n",
      "store_and_fwd_flag_Y    1236151 non-null uint8\n",
      "dtypes: datetime64[ns](1), float64(5), int64(4), object(1), uint8(33)\n",
      "memory usage: 152.1+ MB\n"
     ]
    }
   ],
   "source": [
    "train = pd.get_dummies(train, columns=[\"store_and_fwd_flag\"], prefix='store_and_fwd_flag')\n",
    "train = pd.get_dummies(train, columns=[\"pick_datehour\"], prefix='pick_datehour')\n",
    "train = pd.get_dummies(train, columns=[\"pick_dayofweek\"], prefix='pick_dayofweek')\n",
    "train = pd.get_dummies(train, columns=[\"pick_dayofmonth\"], prefix='pick_dayofmonth')\n",
    "train.info()"
   ]
  },
  {
   "cell_type": "code",
   "execution_count": 29,
   "metadata": {},
   "outputs": [
    {
     "data": {
      "text/html": [
       "<div>\n",
       "<style scoped>\n",
       "    .dataframe tbody tr th:only-of-type {\n",
       "        vertical-align: middle;\n",
       "    }\n",
       "\n",
       "    .dataframe tbody tr th {\n",
       "        vertical-align: top;\n",
       "    }\n",
       "\n",
       "    .dataframe thead th {\n",
       "        text-align: right;\n",
       "    }\n",
       "</style>\n",
       "<table border=\"1\" class=\"dataframe\">\n",
       "  <thead>\n",
       "    <tr style=\"text-align: right;\">\n",
       "      <th></th>\n",
       "      <th>id</th>\n",
       "      <th>vendor_id</th>\n",
       "      <th>pickup_datetime</th>\n",
       "      <th>passenger_count</th>\n",
       "      <th>pickup_longitude</th>\n",
       "      <th>pickup_latitude</th>\n",
       "      <th>dropoff_longitude</th>\n",
       "      <th>dropoff_latitude</th>\n",
       "      <th>trip_duration</th>\n",
       "      <th>pick_dayofweek</th>\n",
       "      <th>pick_dayofmonth</th>\n",
       "      <th>pick_datehour</th>\n",
       "      <th>distance</th>\n",
       "      <th>store_and_fwd_flag_N</th>\n",
       "      <th>store_and_fwd_flag_Y</th>\n",
       "    </tr>\n",
       "  </thead>\n",
       "  <tbody>\n",
       "    <tr>\n",
       "      <th>100879</th>\n",
       "      <td>id0673821</td>\n",
       "      <td>2</td>\n",
       "      <td>2016-03-19 20:53:44</td>\n",
       "      <td>2</td>\n",
       "      <td>-73.990944</td>\n",
       "      <td>40.732998</td>\n",
       "      <td>-73.944931</td>\n",
       "      <td>40.774727</td>\n",
       "      <td>1467</td>\n",
       "      <td>5</td>\n",
       "      <td>3</td>\n",
       "      <td>20</td>\n",
       "      <td>6.045803</td>\n",
       "      <td>1</td>\n",
       "      <td>0</td>\n",
       "    </tr>\n",
       "    <tr>\n",
       "      <th>203245</th>\n",
       "      <td>id3465534</td>\n",
       "      <td>2</td>\n",
       "      <td>2016-04-25 14:31:34</td>\n",
       "      <td>2</td>\n",
       "      <td>-73.982185</td>\n",
       "      <td>40.752148</td>\n",
       "      <td>-73.988281</td>\n",
       "      <td>40.742992</td>\n",
       "      <td>331</td>\n",
       "      <td>0</td>\n",
       "      <td>4</td>\n",
       "      <td>14</td>\n",
       "      <td>1.140205</td>\n",
       "      <td>1</td>\n",
       "      <td>0</td>\n",
       "    </tr>\n",
       "    <tr>\n",
       "      <th>1133010</th>\n",
       "      <td>id1354600</td>\n",
       "      <td>1</td>\n",
       "      <td>2016-05-04 16:35:10</td>\n",
       "      <td>1</td>\n",
       "      <td>-73.969307</td>\n",
       "      <td>40.760986</td>\n",
       "      <td>-73.978966</td>\n",
       "      <td>40.747524</td>\n",
       "      <td>357</td>\n",
       "      <td>2</td>\n",
       "      <td>5</td>\n",
       "      <td>16</td>\n",
       "      <td>1.703721</td>\n",
       "      <td>1</td>\n",
       "      <td>0</td>\n",
       "    </tr>\n",
       "    <tr>\n",
       "      <th>1102498</th>\n",
       "      <td>id0962434</td>\n",
       "      <td>1</td>\n",
       "      <td>2016-01-14 04:30:56</td>\n",
       "      <td>1</td>\n",
       "      <td>-73.981865</td>\n",
       "      <td>40.758327</td>\n",
       "      <td>-73.991219</td>\n",
       "      <td>40.750141</td>\n",
       "      <td>221</td>\n",
       "      <td>3</td>\n",
       "      <td>1</td>\n",
       "      <td>4</td>\n",
       "      <td>1.203892</td>\n",
       "      <td>1</td>\n",
       "      <td>0</td>\n",
       "    </tr>\n",
       "    <tr>\n",
       "      <th>557489</th>\n",
       "      <td>id1750356</td>\n",
       "      <td>2</td>\n",
       "      <td>2016-06-07 08:09:01</td>\n",
       "      <td>6</td>\n",
       "      <td>-73.959686</td>\n",
       "      <td>40.808899</td>\n",
       "      <td>-73.975456</td>\n",
       "      <td>40.764610</td>\n",
       "      <td>1838</td>\n",
       "      <td>1</td>\n",
       "      <td>6</td>\n",
       "      <td>8</td>\n",
       "      <td>5.100504</td>\n",
       "      <td>1</td>\n",
       "      <td>0</td>\n",
       "    </tr>\n",
       "  </tbody>\n",
       "</table>\n",
       "</div>"
      ],
      "text/plain": [
       "                id  vendor_id     pickup_datetime  passenger_count  \\\n",
       "100879   id0673821          2 2016-03-19 20:53:44                2   \n",
       "203245   id3465534          2 2016-04-25 14:31:34                2   \n",
       "1133010  id1354600          1 2016-05-04 16:35:10                1   \n",
       "1102498  id0962434          1 2016-01-14 04:30:56                1   \n",
       "557489   id1750356          2 2016-06-07 08:09:01                6   \n",
       "\n",
       "         pickup_longitude  pickup_latitude  dropoff_longitude  \\\n",
       "100879         -73.990944        40.732998         -73.944931   \n",
       "203245         -73.982185        40.752148         -73.988281   \n",
       "1133010        -73.969307        40.760986         -73.978966   \n",
       "1102498        -73.981865        40.758327         -73.991219   \n",
       "557489         -73.959686        40.808899         -73.975456   \n",
       "\n",
       "         dropoff_latitude  trip_duration  pick_dayofweek  pick_dayofmonth  \\\n",
       "100879          40.774727           1467               5                3   \n",
       "203245          40.742992            331               0                4   \n",
       "1133010         40.747524            357               2                5   \n",
       "1102498         40.750141            221               3                1   \n",
       "557489          40.764610           1838               1                6   \n",
       "\n",
       "         pick_datehour  distance  store_and_fwd_flag_N  store_and_fwd_flag_Y  \n",
       "100879              20  6.045803                     1                     0  \n",
       "203245              14  1.140205                     1                     0  \n",
       "1133010             16  1.703721                     1                     0  \n",
       "1102498              4  1.203892                     1                     0  \n",
       "557489               8  5.100504                     1                     0  "
      ]
     },
     "execution_count": 29,
     "metadata": {},
     "output_type": "execute_result"
    }
   ],
   "source": [
    "train.head()"
   ]
  },
  {
   "cell_type": "code",
   "execution_count": 27,
   "metadata": {},
   "outputs": [
    {
     "name": "stdout",
     "output_type": "stream",
     "text": [
      "<class 'pandas.core.frame.DataFrame'>\n",
      "RangeIndex: 625134 entries, 0 to 625133\n",
      "Data columns (total 48 columns):\n",
      "id                      625134 non-null object\n",
      "vendor_id               625134 non-null int64\n",
      "pickup_datetime         625134 non-null datetime64[ns]\n",
      "passenger_count         625134 non-null int64\n",
      "pickup_longitude        625134 non-null float64\n",
      "pickup_latitude         625134 non-null float64\n",
      "dropoff_longitude       625134 non-null float64\n",
      "dropoff_latitude        625134 non-null float64\n",
      "distance                625134 non-null float64\n",
      "store_and_fwd_flag_N    625134 non-null uint8\n",
      "store_and_fwd_flag_Y    625134 non-null uint8\n",
      "pick_datehour_0         625134 non-null uint8\n",
      "pick_datehour_1         625134 non-null uint8\n",
      "pick_datehour_2         625134 non-null uint8\n",
      "pick_datehour_3         625134 non-null uint8\n",
      "pick_datehour_4         625134 non-null uint8\n",
      "pick_datehour_5         625134 non-null uint8\n",
      "pick_datehour_6         625134 non-null uint8\n",
      "pick_datehour_7         625134 non-null uint8\n",
      "pick_datehour_8         625134 non-null uint8\n",
      "pick_datehour_9         625134 non-null uint8\n",
      "pick_datehour_10        625134 non-null uint8\n",
      "pick_datehour_11        625134 non-null uint8\n",
      "pick_datehour_12        625134 non-null uint8\n",
      "pick_datehour_13        625134 non-null uint8\n",
      "pick_datehour_14        625134 non-null uint8\n",
      "pick_datehour_15        625134 non-null uint8\n",
      "pick_datehour_16        625134 non-null uint8\n",
      "pick_datehour_17        625134 non-null uint8\n",
      "pick_datehour_18        625134 non-null uint8\n",
      "pick_datehour_19        625134 non-null uint8\n",
      "pick_datehour_20        625134 non-null uint8\n",
      "pick_datehour_21        625134 non-null uint8\n",
      "pick_datehour_22        625134 non-null uint8\n",
      "pick_datehour_23        625134 non-null uint8\n",
      "pick_dayofweek_0        625134 non-null uint8\n",
      "pick_dayofweek_1        625134 non-null uint8\n",
      "pick_dayofweek_2        625134 non-null uint8\n",
      "pick_dayofweek_3        625134 non-null uint8\n",
      "pick_dayofweek_4        625134 non-null uint8\n",
      "pick_dayofweek_5        625134 non-null uint8\n",
      "pick_dayofweek_6        625134 non-null uint8\n",
      "pick_dayofmonth_1       625134 non-null uint8\n",
      "pick_dayofmonth_2       625134 non-null uint8\n",
      "pick_dayofmonth_3       625134 non-null uint8\n",
      "pick_dayofmonth_4       625134 non-null uint8\n",
      "pick_dayofmonth_5       625134 non-null uint8\n",
      "pick_dayofmonth_6       625134 non-null uint8\n",
      "dtypes: datetime64[ns](1), float64(5), int64(2), object(1), uint8(39)\n",
      "memory usage: 66.2+ MB\n"
     ]
    }
   ],
   "source": [
    "test = pd.get_dummies(test, columns=[\"store_and_fwd_flag\"], prefix='store_and_fwd_flag')\n",
    "test = pd.get_dummies(test, columns=[\"pick_datehour\"], prefix='pick_datehour')\n",
    "test = pd.get_dummies(test, columns=[\"pick_dayofweek\"], prefix='pick_dayofweek')\n",
    "test = pd.get_dummies(test, columns=[\"pick_dayofmonth\"], prefix='pick_dayofmonth')\n",
    "test.info()"
   ]
  },
  {
   "cell_type": "markdown",
   "metadata": {},
   "source": [
    "# modeling"
   ]
  },
  {
   "cell_type": "code",
   "execution_count": 28,
   "metadata": {},
   "outputs": [
    {
     "data": {
      "text/plain": [
       "((1236151, 46), (1236151,), (625134, 46))"
      ]
     },
     "execution_count": 28,
     "metadata": {},
     "output_type": "execute_result"
    }
   ],
   "source": [
    "X_train = train.drop(labels = [\"id\", \"trip_duration\", \"pickup_datetime\"], axis=1)\n",
    "Y_train = train[\"trip_duration\"]\n",
    "X_test  = test.drop(labels = [\"id\", \"pickup_datetime\"], axis=1).copy()\n",
    "X_train.shape, Y_train.shape, X_test.shape"
   ]
  },
  {
   "cell_type": "code",
   "execution_count": 30,
   "metadata": {},
   "outputs": [
    {
     "name": "stderr",
     "output_type": "stream",
     "text": [
      "/home/jk/enter/lib/python3.6/site-packages/statsmodels/compat/pandas.py:56: FutureWarning: The pandas.core.datetools module is deprecated and will be removed in a future version. Please use the pandas.tseries module instead.\n",
      "  from pandas.core import datetools\n"
     ]
    },
    {
     "name": "stdout",
     "output_type": "stream",
     "text": [
      "                            OLS Regression Results                            \n",
      "==============================================================================\n",
      "Dep. Variable:          trip_duration   R-squared:                       0.548\n",
      "Model:                            OLS   Adj. R-squared:                  0.548\n",
      "Method:                 Least Squares   F-statistic:                 3.485e+04\n",
      "Date:                Mon, 26 Feb 2018   Prob (F-statistic):               0.00\n",
      "Time:                        16:51:55   Log-Likelihood:            -8.6719e+06\n",
      "No. Observations:             1236151   AIC:                         1.734e+07\n",
      "Df Residuals:                 1236107   BIC:                         1.734e+07\n",
      "Df Model:                          43                                         \n",
      "Covariance Type:            nonrobust                                         \n",
      "========================================================================================\n",
      "                           coef    std err          t      P>|t|      [0.025      0.975]\n",
      "----------------------------------------------------------------------------------------\n",
      "vendor_id               -1.7147      0.530     -3.233      0.001      -2.754      -0.675\n",
      "passenger_count          3.1530      0.193     16.322      0.000       2.774       3.532\n",
      "pickup_longitude      -723.3900     22.402    -32.291      0.000    -767.298    -679.482\n",
      "pickup_latitude        386.1474     18.285     21.118      0.000     350.309     421.986\n",
      "dropoff_longitude     -234.5446     18.928    -12.391      0.000    -271.643    -197.446\n",
      "dropoff_latitude     -1500.2421     15.400    -97.416      0.000   -1530.426   -1470.058\n",
      "distance               189.8583      0.165   1153.336      0.000     189.536     190.181\n",
      "pick_dayofweek_0     -4.999e+09    1.8e+10     -0.278      0.781   -4.02e+10    3.02e+10\n",
      "pick_dayofweek_1     -4.999e+09    1.8e+10     -0.278      0.781   -4.02e+10    3.02e+10\n",
      "pick_dayofweek_2     -4.999e+09    1.8e+10     -0.278      0.781   -4.02e+10    3.02e+10\n",
      "pick_dayofweek_3     -4.999e+09    1.8e+10     -0.278      0.781   -4.02e+10    3.02e+10\n",
      "pick_dayofweek_4     -4.999e+09    1.8e+10     -0.278      0.781   -4.02e+10    3.02e+10\n",
      "pick_dayofweek_5     -4.999e+09    1.8e+10     -0.278      0.781   -4.02e+10    3.02e+10\n",
      "pick_dayofweek_6     -4.999e+09    1.8e+10     -0.278      0.781   -4.02e+10    3.02e+10\n",
      "pick_datehour_0      -1.535e+09   5.52e+09     -0.278      0.781   -1.23e+10    9.28e+09\n",
      "pick_datehour_1      -1.535e+09   5.52e+09     -0.278      0.781   -1.23e+10    9.28e+09\n",
      "pick_datehour_2      -1.535e+09   5.52e+09     -0.278      0.781   -1.23e+10    9.28e+09\n",
      "pick_datehour_3      -1.535e+09   5.52e+09     -0.278      0.781   -1.23e+10    9.28e+09\n",
      "pick_datehour_4      -1.535e+09   5.52e+09     -0.278      0.781   -1.23e+10    9.28e+09\n",
      "pick_datehour_5      -1.535e+09   5.52e+09     -0.278      0.781   -1.23e+10    9.28e+09\n",
      "pick_datehour_6      -1.535e+09   5.52e+09     -0.278      0.781   -1.23e+10    9.28e+09\n",
      "pick_datehour_7      -1.535e+09   5.52e+09     -0.278      0.781   -1.23e+10    9.28e+09\n",
      "pick_datehour_8      -1.535e+09   5.52e+09     -0.278      0.781   -1.23e+10    9.28e+09\n",
      "pick_datehour_9      -1.535e+09   5.52e+09     -0.278      0.781   -1.23e+10    9.28e+09\n",
      "pick_datehour_10     -1.535e+09   5.52e+09     -0.278      0.781   -1.23e+10    9.28e+09\n",
      "pick_datehour_11     -1.535e+09   5.52e+09     -0.278      0.781   -1.23e+10    9.28e+09\n",
      "pick_datehour_12     -1.535e+09   5.52e+09     -0.278      0.781   -1.23e+10    9.28e+09\n",
      "pick_datehour_13     -1.535e+09   5.52e+09     -0.278      0.781   -1.23e+10    9.28e+09\n",
      "pick_datehour_14     -1.535e+09   5.52e+09     -0.278      0.781   -1.23e+10    9.28e+09\n",
      "pick_datehour_15     -1.535e+09   5.52e+09     -0.278      0.781   -1.23e+10    9.28e+09\n",
      "pick_datehour_16     -1.535e+09   5.52e+09     -0.278      0.781   -1.23e+10    9.28e+09\n",
      "pick_datehour_17     -1.535e+09   5.52e+09     -0.278      0.781   -1.23e+10    9.28e+09\n",
      "pick_datehour_18     -1.535e+09   5.52e+09     -0.278      0.781   -1.23e+10    9.28e+09\n",
      "pick_datehour_19     -1.535e+09   5.52e+09     -0.278      0.781   -1.23e+10    9.28e+09\n",
      "pick_datehour_20     -1.535e+09   5.52e+09     -0.278      0.781   -1.23e+10    9.28e+09\n",
      "pick_datehour_21     -1.535e+09   5.52e+09     -0.278      0.781   -1.23e+10    9.28e+09\n",
      "pick_datehour_22     -1.535e+09   5.52e+09     -0.278      0.781   -1.23e+10    9.28e+09\n",
      "pick_datehour_23     -1.535e+09   5.52e+09     -0.278      0.781   -1.23e+10    9.28e+09\n",
      "store_and_fwd_flag_N   1.24e+10   4.46e+10      0.278      0.781    -7.5e+10    9.98e+10\n",
      "store_and_fwd_flag_Y   1.24e+10   4.46e+10      0.278      0.781    -7.5e+10    9.98e+10\n",
      "pick_dayofmonth_1     -5.87e+09   2.11e+10     -0.278      0.781   -4.72e+10    3.55e+10\n",
      "pick_dayofmonth_2     -5.87e+09   2.11e+10     -0.278      0.781   -4.72e+10    3.55e+10\n",
      "pick_dayofmonth_3     -5.87e+09   2.11e+10     -0.278      0.781   -4.72e+10    3.55e+10\n",
      "pick_dayofmonth_4     -5.87e+09   2.11e+10     -0.278      0.781   -4.72e+10    3.55e+10\n",
      "pick_dayofmonth_5     -5.87e+09   2.11e+10     -0.278      0.781   -4.72e+10    3.55e+10\n",
      "pick_dayofmonth_6     -5.87e+09   2.11e+10     -0.278      0.781   -4.72e+10    3.55e+10\n",
      "==============================================================================\n",
      "Omnibus:                   229165.315   Durbin-Watson:                   2.001\n",
      "Prob(Omnibus):                  0.000   Jarque-Bera (JB):           540017.160\n",
      "Skew:                           1.053   Prob(JB):                         0.00\n",
      "Kurtosis:                       5.460   Cond. No.                     1.05e+16\n",
      "==============================================================================\n",
      "\n",
      "Warnings:\n",
      "[1] Standard Errors assume that the covariance matrix of the errors is correctly specified.\n",
      "[2] The smallest eigenvalue is 1.59e-22. This might indicate that there are\n",
      "strong multicollinearity problems or that the design matrix is singular.\n"
     ]
    }
   ],
   "source": [
    "import statsmodels.api as sm\n",
    "from sklearn.datasets import make_blobs\n",
    "\n",
    "OLS_model = sm.OLS(Y_train, X_train).fit()\n",
    "print(OLS_model.summary())"
   ]
  },
  {
   "cell_type": "code",
   "execution_count": 31,
   "metadata": {},
   "outputs": [],
   "source": [
    "Y_test = OLS_model.predict(X_test)\n",
    "Y_test"
   ]
  },
  {
   "cell_type": "code",
   "execution_count": 32,
   "metadata": {},
   "outputs": [],
   "source": [
    "sub = pd.DataFrame()\n",
    "sub['Id'] = test[\"id\"]\n",
    "sub['trip_duration'] = Y_test\n",
    "sub.to_csv('submission.csv',index=False)"
   ]
  },
  {
   "cell_type": "code",
   "execution_count": 33,
   "metadata": {},
   "outputs": [
    {
     "data": {
      "text/plain": [
       "625134"
      ]
     },
     "execution_count": 33,
     "metadata": {},
     "output_type": "execute_result"
    }
   ],
   "source": [
    "len(sub)"
   ]
  },
  {
   "cell_type": "code",
   "execution_count": null,
   "metadata": {},
   "outputs": [],
   "source": []
  }
 ],
 "metadata": {
  "kernelspec": {
   "display_name": "Python 3",
   "language": "python",
   "name": "python3"
  },
  "language_info": {
   "codemirror_mode": {
    "name": "ipython",
    "version": 3
   },
   "file_extension": ".py",
   "mimetype": "text/x-python",
   "name": "python",
   "nbconvert_exporter": "python",
   "pygments_lexer": "ipython3",
   "version": "3.6.3"
  }
 },
 "nbformat": 4,
 "nbformat_minor": 2
}
