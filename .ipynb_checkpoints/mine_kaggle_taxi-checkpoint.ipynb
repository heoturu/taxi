{
 "cells": [
  {
   "cell_type": "markdown",
   "metadata": {},
   "source": [
    "# Kaggle New York City Taxi Duration\n",
    "\n",
    "\n",
    "\n",
    "https://www.kaggle.com/c/nyc-taxi-trip-duration/kernels"
   ]
  },
  {
   "cell_type": "code",
   "execution_count": 1,
   "metadata": {},
   "outputs": [],
   "source": [
    "from IPython.display import display\n",
    "import numpy as np\n",
    "import matplotlib.pyplot as plt\n",
    "import pandas as pd\n",
    "import mglearn\n",
    "import seaborn as sns\n",
    "from ipyleaflet import *\n",
    "import time\n",
    "\n",
    "%matplotlib inline"
   ]
  },
  {
   "cell_type": "code",
   "execution_count": 2,
   "metadata": {},
   "outputs": [
    {
     "data": {
      "text/html": [
       "<div>\n",
       "<style scoped>\n",
       "    .dataframe tbody tr th:only-of-type {\n",
       "        vertical-align: middle;\n",
       "    }\n",
       "\n",
       "    .dataframe tbody tr th {\n",
       "        vertical-align: top;\n",
       "    }\n",
       "\n",
       "    .dataframe thead th {\n",
       "        text-align: right;\n",
       "    }\n",
       "</style>\n",
       "<table border=\"1\" class=\"dataframe\">\n",
       "  <thead>\n",
       "    <tr style=\"text-align: right;\">\n",
       "      <th></th>\n",
       "      <th>id</th>\n",
       "      <th>vendor_id</th>\n",
       "      <th>pickup_datetime</th>\n",
       "      <th>dropoff_datetime</th>\n",
       "      <th>passenger_count</th>\n",
       "      <th>pickup_longitude</th>\n",
       "      <th>pickup_latitude</th>\n",
       "      <th>dropoff_longitude</th>\n",
       "      <th>dropoff_latitude</th>\n",
       "      <th>store_and_fwd_flag</th>\n",
       "      <th>trip_duration</th>\n",
       "    </tr>\n",
       "  </thead>\n",
       "  <tbody>\n",
       "    <tr>\n",
       "      <th>0</th>\n",
       "      <td>id2875421</td>\n",
       "      <td>2</td>\n",
       "      <td>2016-03-14 17:24:55</td>\n",
       "      <td>2016-03-14 17:32:30</td>\n",
       "      <td>1</td>\n",
       "      <td>-73.982155</td>\n",
       "      <td>40.767937</td>\n",
       "      <td>-73.964630</td>\n",
       "      <td>40.765602</td>\n",
       "      <td>N</td>\n",
       "      <td>455</td>\n",
       "    </tr>\n",
       "    <tr>\n",
       "      <th>1</th>\n",
       "      <td>id2377394</td>\n",
       "      <td>1</td>\n",
       "      <td>2016-06-12 00:43:35</td>\n",
       "      <td>2016-06-12 00:54:38</td>\n",
       "      <td>1</td>\n",
       "      <td>-73.980415</td>\n",
       "      <td>40.738564</td>\n",
       "      <td>-73.999481</td>\n",
       "      <td>40.731152</td>\n",
       "      <td>N</td>\n",
       "      <td>663</td>\n",
       "    </tr>\n",
       "    <tr>\n",
       "      <th>2</th>\n",
       "      <td>id3858529</td>\n",
       "      <td>2</td>\n",
       "      <td>2016-01-19 11:35:24</td>\n",
       "      <td>2016-01-19 12:10:48</td>\n",
       "      <td>1</td>\n",
       "      <td>-73.979027</td>\n",
       "      <td>40.763939</td>\n",
       "      <td>-74.005333</td>\n",
       "      <td>40.710087</td>\n",
       "      <td>N</td>\n",
       "      <td>2124</td>\n",
       "    </tr>\n",
       "    <tr>\n",
       "      <th>3</th>\n",
       "      <td>id3504673</td>\n",
       "      <td>2</td>\n",
       "      <td>2016-04-06 19:32:31</td>\n",
       "      <td>2016-04-06 19:39:40</td>\n",
       "      <td>1</td>\n",
       "      <td>-74.010040</td>\n",
       "      <td>40.719971</td>\n",
       "      <td>-74.012268</td>\n",
       "      <td>40.706718</td>\n",
       "      <td>N</td>\n",
       "      <td>429</td>\n",
       "    </tr>\n",
       "    <tr>\n",
       "      <th>4</th>\n",
       "      <td>id2181028</td>\n",
       "      <td>2</td>\n",
       "      <td>2016-03-26 13:30:55</td>\n",
       "      <td>2016-03-26 13:38:10</td>\n",
       "      <td>1</td>\n",
       "      <td>-73.973053</td>\n",
       "      <td>40.793209</td>\n",
       "      <td>-73.972923</td>\n",
       "      <td>40.782520</td>\n",
       "      <td>N</td>\n",
       "      <td>435</td>\n",
       "    </tr>\n",
       "  </tbody>\n",
       "</table>\n",
       "</div>"
      ],
      "text/plain": [
       "          id  vendor_id      pickup_datetime     dropoff_datetime  \\\n",
       "0  id2875421          2  2016-03-14 17:24:55  2016-03-14 17:32:30   \n",
       "1  id2377394          1  2016-06-12 00:43:35  2016-06-12 00:54:38   \n",
       "2  id3858529          2  2016-01-19 11:35:24  2016-01-19 12:10:48   \n",
       "3  id3504673          2  2016-04-06 19:32:31  2016-04-06 19:39:40   \n",
       "4  id2181028          2  2016-03-26 13:30:55  2016-03-26 13:38:10   \n",
       "\n",
       "   passenger_count  pickup_longitude  pickup_latitude  dropoff_longitude  \\\n",
       "0                1        -73.982155        40.767937         -73.964630   \n",
       "1                1        -73.980415        40.738564         -73.999481   \n",
       "2                1        -73.979027        40.763939         -74.005333   \n",
       "3                1        -74.010040        40.719971         -74.012268   \n",
       "4                1        -73.973053        40.793209         -73.972923   \n",
       "\n",
       "   dropoff_latitude store_and_fwd_flag  trip_duration  \n",
       "0         40.765602                  N            455  \n",
       "1         40.731152                  N            663  \n",
       "2         40.710087                  N           2124  \n",
       "3         40.706718                  N            429  \n",
       "4         40.782520                  N            435  "
      ]
     },
     "execution_count": 2,
     "metadata": {},
     "output_type": "execute_result"
    }
   ],
   "source": [
    "train = pd.read_csv(\"~/Documents/taxi_data/train.csv\")\n",
    "train.head()"
   ]
  },
  {
   "cell_type": "markdown",
   "metadata": {},
   "source": [
    "# unit\n",
    "\n",
    "### latitude / longtitude = decimal degree (111.32mm per 0.000001°)\n",
    "- 40.767937° / -73.982155°\n",
    "\n",
    "### duration = sec\n",
    "- 455 sec = 7min 35sec"
   ]
  },
  {
   "cell_type": "code",
   "execution_count": 3,
   "metadata": {},
   "outputs": [],
   "source": [
    "# train.info()"
   ]
  },
  {
   "cell_type": "code",
   "execution_count": 4,
   "metadata": {},
   "outputs": [],
   "source": [
    "# train.describe()"
   ]
  },
  {
   "cell_type": "code",
   "execution_count": 5,
   "metadata": {},
   "outputs": [
    {
     "data": {
      "text/plain": [
       "959.4923"
      ]
     },
     "execution_count": 5,
     "metadata": {},
     "output_type": "execute_result"
    }
   ],
   "source": [
    "9.594923e+02"
   ]
  },
  {
   "cell_type": "code",
   "execution_count": 6,
   "metadata": {},
   "outputs": [
    {
     "name": "stdout",
     "output_type": "stream",
     "text": [
      "<class 'pandas.core.frame.DataFrame'>\n",
      "Int64Index: 14586 entries, 128037 to 1341881\n",
      "Data columns (total 11 columns):\n",
      "id                    14586 non-null object\n",
      "vendor_id             14586 non-null int64\n",
      "pickup_datetime       14586 non-null object\n",
      "dropoff_datetime      14586 non-null object\n",
      "passenger_count       14586 non-null int64\n",
      "pickup_longitude      14586 non-null float64\n",
      "pickup_latitude       14586 non-null float64\n",
      "dropoff_longitude     14586 non-null float64\n",
      "dropoff_latitude      14586 non-null float64\n",
      "store_and_fwd_flag    14586 non-null object\n",
      "trip_duration         14586 non-null int64\n",
      "dtypes: float64(4), int64(3), object(4)\n",
      "memory usage: 1.3+ MB\n"
     ]
    }
   ],
   "source": [
    "np.random.seed(1)\n",
    "train_sample = train.sample(frac=0.01, replace=True)\n",
    "train_sample.info()"
   ]
  },
  {
   "cell_type": "code",
   "execution_count": 7,
   "metadata": {},
   "outputs": [
    {
     "data": {
      "text/html": [
       "<div>\n",
       "<style scoped>\n",
       "    .dataframe tbody tr th:only-of-type {\n",
       "        vertical-align: middle;\n",
       "    }\n",
       "\n",
       "    .dataframe tbody tr th {\n",
       "        vertical-align: top;\n",
       "    }\n",
       "\n",
       "    .dataframe thead th {\n",
       "        text-align: right;\n",
       "    }\n",
       "</style>\n",
       "<table border=\"1\" class=\"dataframe\">\n",
       "  <thead>\n",
       "    <tr style=\"text-align: right;\">\n",
       "      <th></th>\n",
       "      <th>id</th>\n",
       "      <th>vendor_id</th>\n",
       "      <th>pickup_datetime</th>\n",
       "      <th>dropoff_datetime</th>\n",
       "      <th>passenger_count</th>\n",
       "      <th>pickup_longitude</th>\n",
       "      <th>pickup_latitude</th>\n",
       "      <th>dropoff_longitude</th>\n",
       "      <th>dropoff_latitude</th>\n",
       "      <th>store_and_fwd_flag</th>\n",
       "      <th>trip_duration</th>\n",
       "    </tr>\n",
       "  </thead>\n",
       "  <tbody>\n",
       "    <tr>\n",
       "      <th>128037</th>\n",
       "      <td>id2544741</td>\n",
       "      <td>2</td>\n",
       "      <td>2016-02-18 08:46:40</td>\n",
       "      <td>2016-02-18 09:15:17</td>\n",
       "      <td>1</td>\n",
       "      <td>-73.948242</td>\n",
       "      <td>40.778042</td>\n",
       "      <td>-73.997841</td>\n",
       "      <td>40.724491</td>\n",
       "      <td>N</td>\n",
       "      <td>1717</td>\n",
       "    </tr>\n",
       "    <tr>\n",
       "      <th>491755</th>\n",
       "      <td>id3108606</td>\n",
       "      <td>2</td>\n",
       "      <td>2016-06-09 13:00:32</td>\n",
       "      <td>2016-06-09 13:06:09</td>\n",
       "      <td>6</td>\n",
       "      <td>-73.968094</td>\n",
       "      <td>40.751163</td>\n",
       "      <td>-73.959969</td>\n",
       "      <td>40.762409</td>\n",
       "      <td>N</td>\n",
       "      <td>337</td>\n",
       "    </tr>\n",
       "    <tr>\n",
       "      <th>470924</th>\n",
       "      <td>id3279589</td>\n",
       "      <td>1</td>\n",
       "      <td>2016-06-06 01:28:39</td>\n",
       "      <td>2016-06-06 01:46:25</td>\n",
       "      <td>1</td>\n",
       "      <td>-73.992393</td>\n",
       "      <td>40.730476</td>\n",
       "      <td>-73.960243</td>\n",
       "      <td>40.657028</td>\n",
       "      <td>N</td>\n",
       "      <td>1066</td>\n",
       "    </tr>\n",
       "    <tr>\n",
       "      <th>491263</th>\n",
       "      <td>id3001994</td>\n",
       "      <td>2</td>\n",
       "      <td>2016-05-14 19:13:33</td>\n",
       "      <td>2016-05-14 19:25:28</td>\n",
       "      <td>6</td>\n",
       "      <td>-73.979683</td>\n",
       "      <td>40.749554</td>\n",
       "      <td>-74.005058</td>\n",
       "      <td>40.749725</td>\n",
       "      <td>N</td>\n",
       "      <td>715</td>\n",
       "    </tr>\n",
       "    <tr>\n",
       "      <th>836489</th>\n",
       "      <td>id0239022</td>\n",
       "      <td>1</td>\n",
       "      <td>2016-05-27 13:52:17</td>\n",
       "      <td>2016-05-27 13:57:37</td>\n",
       "      <td>1</td>\n",
       "      <td>-73.952995</td>\n",
       "      <td>40.807659</td>\n",
       "      <td>-73.961861</td>\n",
       "      <td>40.804516</td>\n",
       "      <td>N</td>\n",
       "      <td>320</td>\n",
       "    </tr>\n",
       "  </tbody>\n",
       "</table>\n",
       "</div>"
      ],
      "text/plain": [
       "               id  vendor_id      pickup_datetime     dropoff_datetime  \\\n",
       "128037  id2544741          2  2016-02-18 08:46:40  2016-02-18 09:15:17   \n",
       "491755  id3108606          2  2016-06-09 13:00:32  2016-06-09 13:06:09   \n",
       "470924  id3279589          1  2016-06-06 01:28:39  2016-06-06 01:46:25   \n",
       "491263  id3001994          2  2016-05-14 19:13:33  2016-05-14 19:25:28   \n",
       "836489  id0239022          1  2016-05-27 13:52:17  2016-05-27 13:57:37   \n",
       "\n",
       "        passenger_count  pickup_longitude  pickup_latitude  dropoff_longitude  \\\n",
       "128037                1        -73.948242        40.778042         -73.997841   \n",
       "491755                6        -73.968094        40.751163         -73.959969   \n",
       "470924                1        -73.992393        40.730476         -73.960243   \n",
       "491263                6        -73.979683        40.749554         -74.005058   \n",
       "836489                1        -73.952995        40.807659         -73.961861   \n",
       "\n",
       "        dropoff_latitude store_and_fwd_flag  trip_duration  \n",
       "128037         40.724491                  N           1717  \n",
       "491755         40.762409                  N            337  \n",
       "470924         40.657028                  N           1066  \n",
       "491263         40.749725                  N            715  \n",
       "836489         40.804516                  N            320  "
      ]
     },
     "execution_count": 7,
     "metadata": {},
     "output_type": "execute_result"
    }
   ],
   "source": [
    "train_sample.head()"
   ]
  },
  {
   "cell_type": "code",
   "execution_count": 8,
   "metadata": {},
   "outputs": [
    {
     "data": {
      "text/html": [
       "<div>\n",
       "<style scoped>\n",
       "    .dataframe tbody tr th:only-of-type {\n",
       "        vertical-align: middle;\n",
       "    }\n",
       "\n",
       "    .dataframe tbody tr th {\n",
       "        vertical-align: top;\n",
       "    }\n",
       "\n",
       "    .dataframe thead th {\n",
       "        text-align: right;\n",
       "    }\n",
       "</style>\n",
       "<table border=\"1\" class=\"dataframe\">\n",
       "  <thead>\n",
       "    <tr style=\"text-align: right;\">\n",
       "      <th></th>\n",
       "      <th>vendor_id</th>\n",
       "      <th>passenger_count</th>\n",
       "      <th>pickup_longitude</th>\n",
       "      <th>pickup_latitude</th>\n",
       "      <th>dropoff_longitude</th>\n",
       "      <th>dropoff_latitude</th>\n",
       "      <th>trip_duration</th>\n",
       "    </tr>\n",
       "  </thead>\n",
       "  <tbody>\n",
       "    <tr>\n",
       "      <th>count</th>\n",
       "      <td>14586.000000</td>\n",
       "      <td>14586.000000</td>\n",
       "      <td>14586.000000</td>\n",
       "      <td>14586.000000</td>\n",
       "      <td>14586.000000</td>\n",
       "      <td>14586.000000</td>\n",
       "      <td>14586.000000</td>\n",
       "    </tr>\n",
       "    <tr>\n",
       "      <th>mean</th>\n",
       "      <td>1.532771</td>\n",
       "      <td>1.665638</td>\n",
       "      <td>-73.973572</td>\n",
       "      <td>40.751029</td>\n",
       "      <td>-73.973348</td>\n",
       "      <td>40.752145</td>\n",
       "      <td>952.841698</td>\n",
       "    </tr>\n",
       "    <tr>\n",
       "      <th>std</th>\n",
       "      <td>0.498942</td>\n",
       "      <td>1.316812</td>\n",
       "      <td>0.038074</td>\n",
       "      <td>0.028058</td>\n",
       "      <td>0.035392</td>\n",
       "      <td>0.032659</td>\n",
       "      <td>3204.692898</td>\n",
       "    </tr>\n",
       "    <tr>\n",
       "      <th>min</th>\n",
       "      <td>1.000000</td>\n",
       "      <td>1.000000</td>\n",
       "      <td>-74.177544</td>\n",
       "      <td>40.449749</td>\n",
       "      <td>-74.193130</td>\n",
       "      <td>40.444698</td>\n",
       "      <td>3.000000</td>\n",
       "    </tr>\n",
       "    <tr>\n",
       "      <th>25%</th>\n",
       "      <td>1.000000</td>\n",
       "      <td>1.000000</td>\n",
       "      <td>-73.991873</td>\n",
       "      <td>40.737469</td>\n",
       "      <td>-73.991301</td>\n",
       "      <td>40.736389</td>\n",
       "      <td>393.000000</td>\n",
       "    </tr>\n",
       "    <tr>\n",
       "      <th>50%</th>\n",
       "      <td>2.000000</td>\n",
       "      <td>1.000000</td>\n",
       "      <td>-73.981827</td>\n",
       "      <td>40.754145</td>\n",
       "      <td>-73.979683</td>\n",
       "      <td>40.754778</td>\n",
       "      <td>656.000000</td>\n",
       "    </tr>\n",
       "    <tr>\n",
       "      <th>75%</th>\n",
       "      <td>2.000000</td>\n",
       "      <td>2.000000</td>\n",
       "      <td>-73.967478</td>\n",
       "      <td>40.768493</td>\n",
       "      <td>-73.962656</td>\n",
       "      <td>40.770124</td>\n",
       "      <td>1066.000000</td>\n",
       "    </tr>\n",
       "    <tr>\n",
       "      <th>max</th>\n",
       "      <td>2.000000</td>\n",
       "      <td>6.000000</td>\n",
       "      <td>-73.653358</td>\n",
       "      <td>40.922764</td>\n",
       "      <td>-73.422035</td>\n",
       "      <td>41.318459</td>\n",
       "      <td>86337.000000</td>\n",
       "    </tr>\n",
       "  </tbody>\n",
       "</table>\n",
       "</div>"
      ],
      "text/plain": [
       "          vendor_id  passenger_count  pickup_longitude  pickup_latitude  \\\n",
       "count  14586.000000     14586.000000      14586.000000     14586.000000   \n",
       "mean       1.532771         1.665638        -73.973572        40.751029   \n",
       "std        0.498942         1.316812          0.038074         0.028058   \n",
       "min        1.000000         1.000000        -74.177544        40.449749   \n",
       "25%        1.000000         1.000000        -73.991873        40.737469   \n",
       "50%        2.000000         1.000000        -73.981827        40.754145   \n",
       "75%        2.000000         2.000000        -73.967478        40.768493   \n",
       "max        2.000000         6.000000        -73.653358        40.922764   \n",
       "\n",
       "       dropoff_longitude  dropoff_latitude  trip_duration  \n",
       "count       14586.000000      14586.000000   14586.000000  \n",
       "mean          -73.973348         40.752145     952.841698  \n",
       "std             0.035392          0.032659    3204.692898  \n",
       "min           -74.193130         40.444698       3.000000  \n",
       "25%           -73.991301         40.736389     393.000000  \n",
       "50%           -73.979683         40.754778     656.000000  \n",
       "75%           -73.962656         40.770124    1066.000000  \n",
       "max           -73.422035         41.318459   86337.000000  "
      ]
     },
     "execution_count": 8,
     "metadata": {},
     "output_type": "execute_result"
    }
   ],
   "source": [
    "train_sample.describe()"
   ]
  },
  {
   "cell_type": "code",
   "execution_count": 9,
   "metadata": {},
   "outputs": [
    {
     "data": {
      "text/plain": [
       "vendor_id               2.000000\n",
       "passenger_count         5.000000\n",
       "pickup_longitude      -73.900425\n",
       "pickup_latitude        40.788458\n",
       "dropoff_longitude     -73.919964\n",
       "dropoff_latitude       40.798020\n",
       "trip_duration        2095.000000\n",
       "Name: 0.95, dtype: float64"
      ]
     },
     "execution_count": 9,
     "metadata": {},
     "output_type": "execute_result"
    }
   ],
   "source": [
    "#out of 95 percent value\n",
    "train_sample1 = pd.DataFrame.quantile(train_sample, q = 0.95)\n",
    "train_sample1"
   ]
  },
  {
   "cell_type": "code",
   "execution_count": 10,
   "metadata": {},
   "outputs": [
    {
     "data": {
      "text/plain": [
       "vendor_id              1.000000\n",
       "passenger_count        1.000000\n",
       "pickup_longitude     -74.007048\n",
       "pickup_latitude       40.708398\n",
       "dropoff_longitude    -74.007370\n",
       "dropoff_latitude      40.701958\n",
       "trip_duration        178.000000\n",
       "Name: 0.05, dtype: float64"
      ]
     },
     "execution_count": 10,
     "metadata": {},
     "output_type": "execute_result"
    }
   ],
   "source": [
    "#out of 5 percent value\n",
    "train_sample2 = pd.DataFrame.quantile(train_sample, q = 0.05)\n",
    "train_sample2"
   ]
  },
  {
   "cell_type": "code",
   "execution_count": 11,
   "metadata": {},
   "outputs": [
    {
     "name": "stdout",
     "output_type": "stream",
     "text": [
      "128037    28\n",
      "491755     5\n",
      "Name: dur_min, dtype: int64\n",
      "128037   2016-02-18 08:46:40\n",
      "491755   2016-06-09 13:00:32\n",
      "470924   2016-06-06 01:28:39\n",
      "Name: pickup_datetime, dtype: datetime64[ns]\n",
      "128037   2016-02-18 09:15:17\n",
      "491755   2016-06-09 13:06:09\n",
      "470924   2016-06-06 01:46:25\n",
      "Name: dropoff_datetime, dtype: datetime64[ns]\n",
      "128037   00:28:37\n",
      "491755   00:05:37\n",
      "470924   00:17:46\n",
      "dtype: timedelta64[ns]\n"
     ]
    }
   ],
   "source": [
    "#train['trip_duration']\n",
    "#convert duration unit : sec to min\n",
    "train_sample[\"pickup_datetime\"] =  pd.to_datetime(train_sample[\"pickup_datetime\"])\n",
    "train_sample[\"dropoff_datetime\"] =  pd.to_datetime(train_sample[\"dropoff_datetime\"])\n",
    "sample_duration = train_sample[\"dropoff_datetime\"] - train_sample[\"pickup_datetime\"]\n",
    "sample_duration_sec = sample_duration.dt.total_seconds().astype('int')\n",
    "train_sample[\"dur_min\"] = (sample_duration_sec / 60).astype('int')\n",
    "print(train_sample['dur_min'][0:2])\n",
    "\n",
    "print(train_sample[\"pickup_datetime\"][0:3])\n",
    "print(train_sample[\"dropoff_datetime\"][0:3])\n",
    "print(train_sample[\"dropoff_datetime\"][0:3] - train_sample[\"pickup_datetime\"][0:3])"
   ]
  },
  {
   "cell_type": "code",
   "execution_count": 12,
   "metadata": {},
   "outputs": [
    {
     "name": "stdout",
     "output_type": "stream",
     "text": [
      "128037    3\n",
      "491755    3\n",
      "470924    0\n",
      "Name: pick_dayofweek, dtype: int64\n",
      "128037    3\n",
      "491755    3\n",
      "470924    0\n",
      "Name: drop_dayofweek, dtype: int64\n"
     ]
    }
   ],
   "source": [
    "#day of week\n",
    "#Monday=0, Sunday=6\n",
    "train_sample[\"pick_dayofweek\"] = train_sample[\"pickup_datetime\"].dt.dayofweek\n",
    "train_sample[\"drop_dayofweek\"] = train_sample[\"dropoff_datetime\"].dt.dayofweek\n",
    "print(train_sample[\"pick_dayofweek\"][0:3])\n",
    "print(train_sample[\"drop_dayofweek\"][0:3])"
   ]
  },
  {
   "cell_type": "code",
   "execution_count": 13,
   "metadata": {},
   "outputs": [
    {
     "name": "stdout",
     "output_type": "stream",
     "text": [
      "128037    2\n",
      "491755    6\n",
      "470924    6\n",
      "Name: pick_dayofmonth, dtype: int64\n",
      "128037    2\n",
      "491755    6\n",
      "470924    6\n",
      "Name: drop_dayofmonth, dtype: int64\n"
     ]
    }
   ],
   "source": [
    "#day of month\n",
    "train_sample[\"pick_dayofmonth\"] = train_sample[\"pickup_datetime\"].dt.month\n",
    "train_sample[\"drop_dayofmonth\"] = train_sample[\"dropoff_datetime\"].dt.month\n",
    "print(train_sample[\"pick_dayofmonth\"][0:3])\n",
    "print(train_sample[\"drop_dayofmonth\"][0:3])"
   ]
  },
  {
   "cell_type": "code",
   "execution_count": 14,
   "metadata": {},
   "outputs": [
    {
     "name": "stdout",
     "output_type": "stream",
     "text": [
      "128037     8\n",
      "491755    13\n",
      "470924     1\n",
      "Name: pick_datehour, dtype: int64\n",
      "128037     9\n",
      "491755    13\n",
      "470924     1\n",
      "Name: drop_datehour, dtype: int64\n"
     ]
    }
   ],
   "source": [
    "#day of hour\n",
    "train_sample[\"pick_datehour\"] = train_sample[\"pickup_datetime\"].dt.hour\n",
    "train_sample[\"drop_datehour\"] = train_sample[\"dropoff_datetime\"].dt.hour\n",
    "print(train_sample[\"pick_datehour\"][0:3])\n",
    "print(train_sample[\"drop_datehour\"][0:3])"
   ]
  },
  {
   "cell_type": "code",
   "execution_count": 15,
   "metadata": {},
   "outputs": [
    {
     "name": "stdout",
     "output_type": "stream",
     "text": [
      "<class 'pandas.core.frame.DataFrame'>\n",
      "Int64Index: 14586 entries, 128037 to 1341881\n",
      "Data columns (total 18 columns):\n",
      "id                    14586 non-null object\n",
      "vendor_id             14586 non-null int64\n",
      "pickup_datetime       14586 non-null datetime64[ns]\n",
      "dropoff_datetime      14586 non-null datetime64[ns]\n",
      "passenger_count       14586 non-null int64\n",
      "pickup_longitude      14586 non-null float64\n",
      "pickup_latitude       14586 non-null float64\n",
      "dropoff_longitude     14586 non-null float64\n",
      "dropoff_latitude      14586 non-null float64\n",
      "store_and_fwd_flag    14586 non-null object\n",
      "trip_duration         14586 non-null int64\n",
      "dur_min               14586 non-null int64\n",
      "pick_dayofweek        14586 non-null int64\n",
      "drop_dayofweek        14586 non-null int64\n",
      "pick_dayofmonth       14586 non-null int64\n",
      "drop_dayofmonth       14586 non-null int64\n",
      "pick_datehour         14586 non-null int64\n",
      "drop_datehour         14586 non-null int64\n",
      "dtypes: datetime64[ns](2), float64(4), int64(10), object(2)\n",
      "memory usage: 2.7+ MB\n"
     ]
    }
   ],
   "source": [
    "train_sample.info()"
   ]
  },
  {
   "cell_type": "code",
   "execution_count": 16,
   "metadata": {},
   "outputs": [],
   "source": [
    "# train_sample_1 = train_sample.loc[:,[\"pick_dayofweek\",\"dur_min\"]]\n",
    "# train_sample_1.tail()"
   ]
  },
  {
   "cell_type": "code",
   "execution_count": 17,
   "metadata": {},
   "outputs": [
    {
     "data": {
      "text/plain": [
       "<matplotlib.axes._subplots.AxesSubplot at 0x7fb03783d668>"
      ]
     },
     "execution_count": 17,
     "metadata": {},
     "output_type": "execute_result"
    },
    {
     "data": {
      "image/png": "[encoded data removed]",
      "text/plain": [
       "<matplotlib.figure.Figure at 0x7fb07454fc88>"
      ]
     },
     "metadata": {},
     "output_type": "display_data"
    }
   ],
   "source": [
    "sns.distplot(train_sample[\"dur_min\"])"
   ]
  },
  {
   "cell_type": "code",
   "execution_count": 18,
   "metadata": {},
   "outputs": [
    {
     "data": {
      "text/plain": [
       "<matplotlib.axes._subplots.AxesSubplot at 0x7fb0374f3390>"
      ]
     },
     "execution_count": 18,
     "metadata": {},
     "output_type": "execute_result"
    },
    {
     "data": {
      "image/png": "[encoded data removed]",
      "text/plain": [
       "<matplotlib.figure.Figure at 0x7fb03744b4e0>"
      ]
     },
     "metadata": {},
     "output_type": "display_data"
    }
   ],
   "source": [
    "sns.distplot(train_sample[\"dur_min\"], bins = 10)"
   ]
  },
  {
   "cell_type": "code",
   "execution_count": 19,
   "metadata": {},
   "outputs": [
    {
     "data": {
      "text/plain": [
       "<seaborn.axisgrid.JointGrid at 0x7fb037432ac8>"
      ]
     },
     "execution_count": 19,
     "metadata": {},
     "output_type": "execute_result"
    },
    {
     "data": {
      "image/png": "[encoded data removed]",
      "text/plain": [
       "<matplotlib.figure.Figure at 0x7fb0374329b0>"
      ]
     },
     "metadata": {},
     "output_type": "display_data"
    }
   ],
   "source": [
    "sns.jointplot(x = \"pick_dayofweek\", y = \"dur_min\", data = train_sample)"
   ]
  },
  {
   "cell_type": "code",
   "execution_count": 20,
   "metadata": {},
   "outputs": [],
   "source": [
    "# sns.heatmap(train_sample)"
   ]
  },
  {
   "cell_type": "code",
   "execution_count": 21,
   "metadata": {},
   "outputs": [],
   "source": [
    "# test = pd.read_csv(\"~/Documents/taxi_data/test.csv\")\n",
    "# test.head()"
   ]
  },
  {
   "cell_type": "code",
   "execution_count": null,
   "metadata": {},
   "outputs": [],
   "source": []
  },
  {
   "cell_type": "code",
   "execution_count": 22,
   "metadata": {},
   "outputs": [],
   "source": [
    "# sns.pairplot(train)"
   ]
  },
  {
   "cell_type": "code",
   "execution_count": 23,
   "metadata": {},
   "outputs": [],
   "source": [
    "# sns.pairplot(train_sample)"
   ]
  },
  {
   "cell_type": "markdown",
   "metadata": {},
   "source": [
    "# map visualization\n",
    "\n",
    "- locate pin onto NYC map (pickup location)"
   ]
  },
  {
   "cell_type": "code",
   "execution_count": 31,
   "metadata": {},
   "outputs": [
    {
     "data": {
      "application/vnd.jupyter.widget-view+json": {
       "model_id": "dd7a9f065b5d4ab1a9afaa442392e44b",
       "version_major": 2,
       "version_minor": 0
      },
      "text/html": [
       "<p>Failed to display Jupyter Widget of type <code>Map</code>.</p>\n",
       "<p>\n",
       "  If you're reading this message in the Jupyter Notebook or JupyterLab Notebook, it may mean\n",
       "  that the widgets JavaScript is still loading. If this message persists, it\n",
       "  likely means that the widgets JavaScript library is either not installed or\n",
       "  not enabled. See the <a href=\"https://ipywidgets.readthedocs.io/en/stable/user_install.html\">Jupyter\n",
       "  Widgets Documentation</a> for setup instructions.\n",
       "</p>\n",
       "<p>\n",
       "  If you're reading this message in another frontend (for example, a static\n",
       "  rendering on GitHub or <a href=\"https://nbviewer.jupyter.org/\">NBViewer</a>),\n",
       "  it may mean that your frontend doesn't currently support widgets.\n",
       "</p>\n"
      ],
      "text/plain": [
       "Map(basemap={'url': 'https://{s}.tile.openstreetmap.org/{z}/{x}/{y}.png', 'max_zoom': 19, 'attribution': 'Map data (c) <a href=\"https://openstreetmap.org\">OpenStreetMap</a> contributors'}, center=[40.75102891350551, -73.97357167011587], default_tiles=TileLayer(max_zoom=19, min_zoom=1, options=['attribution', 'detect_retina', 'max_zoom', 'min_zoom', 'opacity', 'tile_size']), layers=(TileLayer(max_zoom=19, min_zoom=1, options=['attribution', 'detect_retina', 'max_zoom', 'min_zoom', 'opacity', 'tile_size']),), layout=Layout(align_self='stretch', height='400px'), options=['attribution_control', 'basemap', 'bounce_at_zoom_limits', 'box_zoom', 'center', 'close_popup_on_click', 'double_click_zoom', 'dragging', 'inertia', 'inertia_deceleration', 'inertia_max_speed', 'keyboard', 'keyboard_pan_offset', 'keyboard_zoom_offset', 'max_zoom', 'min_zoom', 'scroll_wheel_zoom', 'tap', 'tap_tolerance', 'touch_zoom', 'world_copy_jump', 'zoom', 'zoom_animation_threshold', 'zoom_control', 'zoom_start'])"
      ]
     },
     "metadata": {},
     "output_type": "display_data"
    }
   ],
   "source": [
    "#center location(mean of latitude, longitude)\n",
    "center=[np.mean(train_sample['pickup_latitude']), np.mean(train_sample['pickup_longitude'])]\n",
    "zoom = 12\n",
    "m = Map(center=center, zoom=zoom)\n",
    "m"
   ]
  },
  {
   "cell_type": "code",
   "execution_count": 39,
   "metadata": {},
   "outputs": [],
   "source": [
    "marker = Marker(location=center)\n",
    "m += marker"
   ]
  },
  {
   "cell_type": "code",
   "execution_count": null,
   "metadata": {},
   "outputs": [],
   "source": [
    "#pickup location pin onto map\n",
    "for i in range(len(train_sample.index)):\n",
    "    location1=[train_sample.iloc[i, 6], train_sample.iloc[i, 5]]\n",
    "    marker = Marker(location=location1)\n",
    "    m += marker\n",
    "    time.sleep(0.5)\n",
    "\n"
   ]
  },
  {
   "cell_type": "code",
   "execution_count": null,
   "metadata": {},
   "outputs": [],
   "source": []
  },
  {
   "cell_type": "code",
   "execution_count": null,
   "metadata": {},
   "outputs": [],
   "source": []
  }
 ],
 "metadata": {
  "kernelspec": {
   "display_name": "Python 3",
   "language": "python",
   "name": "python3"
  },
  "language_info": {
   "codemirror_mode": {
    "name": "ipython",
    "version": 3
   },
   "file_extension": ".py",
   "mimetype": "text/x-python",
   "name": "python",
   "nbconvert_exporter": "python",
   "pygments_lexer": "ipython3",
   "version": "3.6.3"
  }
 },
 "nbformat": 4,
 "nbformat_minor": 2
}
