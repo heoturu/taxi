{
 "cells": [
  {
   "cell_type": "markdown",
   "metadata": {},
   "source": [
    "# Kaggle : New York City Taxi Trip Duration\n",
    "### Share code and data to improve ride time predictions\n",
    "\n",
    "https://www.kaggle.com/c/nyc-taxi-trip-duration/kernels"
   ]
  },
  {
   "cell_type": "markdown",
   "metadata": {},
   "source": [
    "## 1. EDA (Exploratory Data Analyze)\n",
    "\n",
    "### a. data understanding\n",
    "### b. data visualization"
   ]
  },
  {
   "cell_type": "code",
   "execution_count": null,
   "metadata": {},
   "outputs": [],
   "source": []
  },
  {
   "cell_type": "code",
   "execution_count": 1,
   "metadata": {},
   "outputs": [],
   "source": [
    "from IPython.display import display\n",
    "import numpy as np\n",
    "import matplotlib.pyplot as plt\n",
    "import pandas as pd\n",
    "import mglearn\n",
    "import seaborn as sns\n",
    "from ipyleaflet import *\n",
    "import time\n",
    "\n",
    "%matplotlib inline"
   ]
  },
  {
   "cell_type": "code",
   "execution_count": 2,
   "metadata": {},
   "outputs": [
    {
     "data": {
      "text/html": [
       "<div>\n",
       "<style scoped>\n",
       "    .dataframe tbody tr th:only-of-type {\n",
       "        vertical-align: middle;\n",
       "    }\n",
       "\n",
       "    .dataframe tbody tr th {\n",
       "        vertical-align: top;\n",
       "    }\n",
       "\n",
       "    .dataframe thead th {\n",
       "        text-align: right;\n",
       "    }\n",
       "</style>\n",
       "<table border=\"1\" class=\"dataframe\">\n",
       "  <thead>\n",
       "    <tr style=\"text-align: right;\">\n",
       "      <th></th>\n",
       "      <th>id</th>\n",
       "      <th>vendor_id</th>\n",
       "      <th>pickup_datetime</th>\n",
       "      <th>dropoff_datetime</th>\n",
       "      <th>passenger_count</th>\n",
       "      <th>pickup_longitude</th>\n",
       "      <th>pickup_latitude</th>\n",
       "      <th>dropoff_longitude</th>\n",
       "      <th>dropoff_latitude</th>\n",
       "      <th>store_and_fwd_flag</th>\n",
       "      <th>trip_duration</th>\n",
       "    </tr>\n",
       "  </thead>\n",
       "  <tbody>\n",
       "    <tr>\n",
       "      <th>0</th>\n",
       "      <td>id2875421</td>\n",
       "      <td>2</td>\n",
       "      <td>2016-03-14 17:24:55</td>\n",
       "      <td>2016-03-14 17:32:30</td>\n",
       "      <td>1</td>\n",
       "      <td>-73.982155</td>\n",
       "      <td>40.767937</td>\n",
       "      <td>-73.964630</td>\n",
       "      <td>40.765602</td>\n",
       "      <td>N</td>\n",
       "      <td>455</td>\n",
       "    </tr>\n",
       "    <tr>\n",
       "      <th>1</th>\n",
       "      <td>id2377394</td>\n",
       "      <td>1</td>\n",
       "      <td>2016-06-12 00:43:35</td>\n",
       "      <td>2016-06-12 00:54:38</td>\n",
       "      <td>1</td>\n",
       "      <td>-73.980415</td>\n",
       "      <td>40.738564</td>\n",
       "      <td>-73.999481</td>\n",
       "      <td>40.731152</td>\n",
       "      <td>N</td>\n",
       "      <td>663</td>\n",
       "    </tr>\n",
       "    <tr>\n",
       "      <th>2</th>\n",
       "      <td>id3858529</td>\n",
       "      <td>2</td>\n",
       "      <td>2016-01-19 11:35:24</td>\n",
       "      <td>2016-01-19 12:10:48</td>\n",
       "      <td>1</td>\n",
       "      <td>-73.979027</td>\n",
       "      <td>40.763939</td>\n",
       "      <td>-74.005333</td>\n",
       "      <td>40.710087</td>\n",
       "      <td>N</td>\n",
       "      <td>2124</td>\n",
       "    </tr>\n",
       "    <tr>\n",
       "      <th>3</th>\n",
       "      <td>id3504673</td>\n",
       "      <td>2</td>\n",
       "      <td>2016-04-06 19:32:31</td>\n",
       "      <td>2016-04-06 19:39:40</td>\n",
       "      <td>1</td>\n",
       "      <td>-74.010040</td>\n",
       "      <td>40.719971</td>\n",
       "      <td>-74.012268</td>\n",
       "      <td>40.706718</td>\n",
       "      <td>N</td>\n",
       "      <td>429</td>\n",
       "    </tr>\n",
       "    <tr>\n",
       "      <th>4</th>\n",
       "      <td>id2181028</td>\n",
       "      <td>2</td>\n",
       "      <td>2016-03-26 13:30:55</td>\n",
       "      <td>2016-03-26 13:38:10</td>\n",
       "      <td>1</td>\n",
       "      <td>-73.973053</td>\n",
       "      <td>40.793209</td>\n",
       "      <td>-73.972923</td>\n",
       "      <td>40.782520</td>\n",
       "      <td>N</td>\n",
       "      <td>435</td>\n",
       "    </tr>\n",
       "  </tbody>\n",
       "</table>\n",
       "</div>"
      ],
      "text/plain": [
       "          id  vendor_id      pickup_datetime     dropoff_datetime  \\\n",
       "0  id2875421          2  2016-03-14 17:24:55  2016-03-14 17:32:30   \n",
       "1  id2377394          1  2016-06-12 00:43:35  2016-06-12 00:54:38   \n",
       "2  id3858529          2  2016-01-19 11:35:24  2016-01-19 12:10:48   \n",
       "3  id3504673          2  2016-04-06 19:32:31  2016-04-06 19:39:40   \n",
       "4  id2181028          2  2016-03-26 13:30:55  2016-03-26 13:38:10   \n",
       "\n",
       "   passenger_count  pickup_longitude  pickup_latitude  dropoff_longitude  \\\n",
       "0                1        -73.982155        40.767937         -73.964630   \n",
       "1                1        -73.980415        40.738564         -73.999481   \n",
       "2                1        -73.979027        40.763939         -74.005333   \n",
       "3                1        -74.010040        40.719971         -74.012268   \n",
       "4                1        -73.973053        40.793209         -73.972923   \n",
       "\n",
       "   dropoff_latitude store_and_fwd_flag  trip_duration  \n",
       "0         40.765602                  N            455  \n",
       "1         40.731152                  N            663  \n",
       "2         40.710087                  N           2124  \n",
       "3         40.706718                  N            429  \n",
       "4         40.782520                  N            435  "
      ]
     },
     "execution_count": 2,
     "metadata": {},
     "output_type": "execute_result"
    }
   ],
   "source": [
    "train = pd.read_csv(\"~/Documents/taxi_data/train.csv\")\n",
    "train.head()"
   ]
  },
  {
   "cell_type": "markdown",
   "metadata": {},
   "source": [
    "# unit\n",
    "\n",
    "### latitude / longtitude = decimal degree (111.32mm per 0.000001°)\n",
    "- 40.767937° / -73.982155°\n",
    "\n",
    "### duration = sec\n",
    "- 455 sec = 7min 35sec"
   ]
  },
  {
   "cell_type": "code",
   "execution_count": 3,
   "metadata": {},
   "outputs": [],
   "source": [
    "# train.info()"
   ]
  },
  {
   "cell_type": "code",
   "execution_count": 4,
   "metadata": {},
   "outputs": [],
   "source": [
    "# train.describe()"
   ]
  },
  {
   "cell_type": "code",
   "execution_count": 3,
   "metadata": {},
   "outputs": [
    {
     "data": {
      "text/plain": [
       "959.4923"
      ]
     },
     "execution_count": 3,
     "metadata": {},
     "output_type": "execute_result"
    }
   ],
   "source": [
    "9.594923e+02"
   ]
  },
  {
   "cell_type": "code",
   "execution_count": 4,
   "metadata": {},
   "outputs": [
    {
     "name": "stdout",
     "output_type": "stream",
     "text": [
      "<class 'pandas.core.frame.DataFrame'>\n",
      "Int64Index: 7293 entries, 100879 to 1074490\n",
      "Data columns (total 11 columns):\n",
      "id                    7293 non-null object\n",
      "vendor_id             7293 non-null int64\n",
      "pickup_datetime       7293 non-null object\n",
      "dropoff_datetime      7293 non-null object\n",
      "passenger_count       7293 non-null int64\n",
      "pickup_longitude      7293 non-null float64\n",
      "pickup_latitude       7293 non-null float64\n",
      "dropoff_longitude     7293 non-null float64\n",
      "dropoff_latitude      7293 non-null float64\n",
      "store_and_fwd_flag    7293 non-null object\n",
      "trip_duration         7293 non-null int64\n",
      "dtypes: float64(4), int64(3), object(4)\n",
      "memory usage: 683.7+ KB\n"
     ]
    }
   ],
   "source": [
    "np.random.seed(2)\n",
    "train_sample = train.sample(frac=0.005, replace=True)\n",
    "train_sample.info()"
   ]
  },
  {
   "cell_type": "code",
   "execution_count": 5,
   "metadata": {},
   "outputs": [
    {
     "data": {
      "text/html": [
       "<div>\n",
       "<style scoped>\n",
       "    .dataframe tbody tr th:only-of-type {\n",
       "        vertical-align: middle;\n",
       "    }\n",
       "\n",
       "    .dataframe tbody tr th {\n",
       "        vertical-align: top;\n",
       "    }\n",
       "\n",
       "    .dataframe thead th {\n",
       "        text-align: right;\n",
       "    }\n",
       "</style>\n",
       "<table border=\"1\" class=\"dataframe\">\n",
       "  <thead>\n",
       "    <tr style=\"text-align: right;\">\n",
       "      <th></th>\n",
       "      <th>id</th>\n",
       "      <th>vendor_id</th>\n",
       "      <th>pickup_datetime</th>\n",
       "      <th>dropoff_datetime</th>\n",
       "      <th>passenger_count</th>\n",
       "      <th>pickup_longitude</th>\n",
       "      <th>pickup_latitude</th>\n",
       "      <th>dropoff_longitude</th>\n",
       "      <th>dropoff_latitude</th>\n",
       "      <th>store_and_fwd_flag</th>\n",
       "      <th>trip_duration</th>\n",
       "    </tr>\n",
       "  </thead>\n",
       "  <tbody>\n",
       "    <tr>\n",
       "      <th>100879</th>\n",
       "      <td>id0673821</td>\n",
       "      <td>2</td>\n",
       "      <td>2016-03-19 20:53:44</td>\n",
       "      <td>2016-03-19 21:18:11</td>\n",
       "      <td>2</td>\n",
       "      <td>-73.990944</td>\n",
       "      <td>40.732998</td>\n",
       "      <td>-73.944931</td>\n",
       "      <td>40.774727</td>\n",
       "      <td>N</td>\n",
       "      <td>1467</td>\n",
       "    </tr>\n",
       "    <tr>\n",
       "      <th>203245</th>\n",
       "      <td>id3465534</td>\n",
       "      <td>2</td>\n",
       "      <td>2016-04-25 14:31:34</td>\n",
       "      <td>2016-04-25 14:37:05</td>\n",
       "      <td>2</td>\n",
       "      <td>-73.982185</td>\n",
       "      <td>40.752148</td>\n",
       "      <td>-73.988281</td>\n",
       "      <td>40.742992</td>\n",
       "      <td>N</td>\n",
       "      <td>331</td>\n",
       "    </tr>\n",
       "    <tr>\n",
       "      <th>1133010</th>\n",
       "      <td>id1354600</td>\n",
       "      <td>1</td>\n",
       "      <td>2016-05-04 16:35:10</td>\n",
       "      <td>2016-05-04 16:41:07</td>\n",
       "      <td>1</td>\n",
       "      <td>-73.969307</td>\n",
       "      <td>40.760986</td>\n",
       "      <td>-73.978966</td>\n",
       "      <td>40.747524</td>\n",
       "      <td>N</td>\n",
       "      <td>357</td>\n",
       "    </tr>\n",
       "    <tr>\n",
       "      <th>961799</th>\n",
       "      <td>id3014975</td>\n",
       "      <td>1</td>\n",
       "      <td>2016-01-16 10:41:51</td>\n",
       "      <td>2016-01-16 10:56:41</td>\n",
       "      <td>1</td>\n",
       "      <td>-73.986877</td>\n",
       "      <td>40.766727</td>\n",
       "      <td>-73.955513</td>\n",
       "      <td>40.826473</td>\n",
       "      <td>N</td>\n",
       "      <td>890</td>\n",
       "    </tr>\n",
       "    <tr>\n",
       "      <th>1102498</th>\n",
       "      <td>id0962434</td>\n",
       "      <td>1</td>\n",
       "      <td>2016-01-14 04:30:56</td>\n",
       "      <td>2016-01-14 04:34:37</td>\n",
       "      <td>1</td>\n",
       "      <td>-73.981865</td>\n",
       "      <td>40.758327</td>\n",
       "      <td>-73.991219</td>\n",
       "      <td>40.750141</td>\n",
       "      <td>N</td>\n",
       "      <td>221</td>\n",
       "    </tr>\n",
       "  </tbody>\n",
       "</table>\n",
       "</div>"
      ],
      "text/plain": [
       "                id  vendor_id      pickup_datetime     dropoff_datetime  \\\n",
       "100879   id0673821          2  2016-03-19 20:53:44  2016-03-19 21:18:11   \n",
       "203245   id3465534          2  2016-04-25 14:31:34  2016-04-25 14:37:05   \n",
       "1133010  id1354600          1  2016-05-04 16:35:10  2016-05-04 16:41:07   \n",
       "961799   id3014975          1  2016-01-16 10:41:51  2016-01-16 10:56:41   \n",
       "1102498  id0962434          1  2016-01-14 04:30:56  2016-01-14 04:34:37   \n",
       "\n",
       "         passenger_count  pickup_longitude  pickup_latitude  \\\n",
       "100879                 2        -73.990944        40.732998   \n",
       "203245                 2        -73.982185        40.752148   \n",
       "1133010                1        -73.969307        40.760986   \n",
       "961799                 1        -73.986877        40.766727   \n",
       "1102498                1        -73.981865        40.758327   \n",
       "\n",
       "         dropoff_longitude  dropoff_latitude store_and_fwd_flag  trip_duration  \n",
       "100879          -73.944931         40.774727                  N           1467  \n",
       "203245          -73.988281         40.742992                  N            331  \n",
       "1133010         -73.978966         40.747524                  N            357  \n",
       "961799          -73.955513         40.826473                  N            890  \n",
       "1102498         -73.991219         40.750141                  N            221  "
      ]
     },
     "execution_count": 5,
     "metadata": {},
     "output_type": "execute_result"
    }
   ],
   "source": [
    "train_sample.head()"
   ]
  },
  {
   "cell_type": "code",
   "execution_count": 6,
   "metadata": {},
   "outputs": [
    {
     "data": {
      "text/html": [
       "<div>\n",
       "<style scoped>\n",
       "    .dataframe tbody tr th:only-of-type {\n",
       "        vertical-align: middle;\n",
       "    }\n",
       "\n",
       "    .dataframe tbody tr th {\n",
       "        vertical-align: top;\n",
       "    }\n",
       "\n",
       "    .dataframe thead th {\n",
       "        text-align: right;\n",
       "    }\n",
       "</style>\n",
       "<table border=\"1\" class=\"dataframe\">\n",
       "  <thead>\n",
       "    <tr style=\"text-align: right;\">\n",
       "      <th></th>\n",
       "      <th>vendor_id</th>\n",
       "      <th>passenger_count</th>\n",
       "      <th>pickup_longitude</th>\n",
       "      <th>pickup_latitude</th>\n",
       "      <th>dropoff_longitude</th>\n",
       "      <th>dropoff_latitude</th>\n",
       "      <th>trip_duration</th>\n",
       "    </tr>\n",
       "  </thead>\n",
       "  <tbody>\n",
       "    <tr>\n",
       "      <th>count</th>\n",
       "      <td>7293.000000</td>\n",
       "      <td>7293.000000</td>\n",
       "      <td>7293.000000</td>\n",
       "      <td>7293.000000</td>\n",
       "      <td>7293.000000</td>\n",
       "      <td>7293.000000</td>\n",
       "      <td>7293.000000</td>\n",
       "    </tr>\n",
       "    <tr>\n",
       "      <th>mean</th>\n",
       "      <td>1.528726</td>\n",
       "      <td>1.667626</td>\n",
       "      <td>-73.973591</td>\n",
       "      <td>40.751095</td>\n",
       "      <td>-73.973485</td>\n",
       "      <td>40.751617</td>\n",
       "      <td>975.675168</td>\n",
       "    </tr>\n",
       "    <tr>\n",
       "      <th>std</th>\n",
       "      <td>0.499208</td>\n",
       "      <td>1.326878</td>\n",
       "      <td>0.037878</td>\n",
       "      <td>0.027623</td>\n",
       "      <td>0.036893</td>\n",
       "      <td>0.031980</td>\n",
       "      <td>3415.942518</td>\n",
       "    </tr>\n",
       "    <tr>\n",
       "      <th>min</th>\n",
       "      <td>1.000000</td>\n",
       "      <td>1.000000</td>\n",
       "      <td>-74.222603</td>\n",
       "      <td>40.582989</td>\n",
       "      <td>-74.222603</td>\n",
       "      <td>40.556728</td>\n",
       "      <td>2.000000</td>\n",
       "    </tr>\n",
       "    <tr>\n",
       "      <th>25%</th>\n",
       "      <td>1.000000</td>\n",
       "      <td>1.000000</td>\n",
       "      <td>-73.991737</td>\n",
       "      <td>40.737495</td>\n",
       "      <td>-73.991188</td>\n",
       "      <td>40.736305</td>\n",
       "      <td>408.000000</td>\n",
       "    </tr>\n",
       "    <tr>\n",
       "      <th>50%</th>\n",
       "      <td>2.000000</td>\n",
       "      <td>1.000000</td>\n",
       "      <td>-73.981667</td>\n",
       "      <td>40.754292</td>\n",
       "      <td>-73.979797</td>\n",
       "      <td>40.754429</td>\n",
       "      <td>675.000000</td>\n",
       "    </tr>\n",
       "    <tr>\n",
       "      <th>75%</th>\n",
       "      <td>2.000000</td>\n",
       "      <td>2.000000</td>\n",
       "      <td>-73.967194</td>\n",
       "      <td>40.768204</td>\n",
       "      <td>-73.963463</td>\n",
       "      <td>40.769367</td>\n",
       "      <td>1065.000000</td>\n",
       "    </tr>\n",
       "    <tr>\n",
       "      <th>max</th>\n",
       "      <td>2.000000</td>\n",
       "      <td>6.000000</td>\n",
       "      <td>-73.776566</td>\n",
       "      <td>40.903709</td>\n",
       "      <td>-73.587265</td>\n",
       "      <td>41.027721</td>\n",
       "      <td>86267.000000</td>\n",
       "    </tr>\n",
       "  </tbody>\n",
       "</table>\n",
       "</div>"
      ],
      "text/plain": [
       "         vendor_id  passenger_count  pickup_longitude  pickup_latitude  \\\n",
       "count  7293.000000      7293.000000       7293.000000      7293.000000   \n",
       "mean      1.528726         1.667626        -73.973591        40.751095   \n",
       "std       0.499208         1.326878          0.037878         0.027623   \n",
       "min       1.000000         1.000000        -74.222603        40.582989   \n",
       "25%       1.000000         1.000000        -73.991737        40.737495   \n",
       "50%       2.000000         1.000000        -73.981667        40.754292   \n",
       "75%       2.000000         2.000000        -73.967194        40.768204   \n",
       "max       2.000000         6.000000        -73.776566        40.903709   \n",
       "\n",
       "       dropoff_longitude  dropoff_latitude  trip_duration  \n",
       "count        7293.000000       7293.000000    7293.000000  \n",
       "mean          -73.973485         40.751617     975.675168  \n",
       "std             0.036893          0.031980    3415.942518  \n",
       "min           -74.222603         40.556728       2.000000  \n",
       "25%           -73.991188         40.736305     408.000000  \n",
       "50%           -73.979797         40.754429     675.000000  \n",
       "75%           -73.963463         40.769367    1065.000000  \n",
       "max           -73.587265         41.027721   86267.000000  "
      ]
     },
     "execution_count": 6,
     "metadata": {},
     "output_type": "execute_result"
    }
   ],
   "source": [
    "train_sample.describe()"
   ]
  },
  {
   "cell_type": "code",
   "execution_count": 7,
   "metadata": {},
   "outputs": [
    {
     "data": {
      "text/plain": [
       "vendor_id               2.000000\n",
       "passenger_count         5.000000\n",
       "pickup_longitude      -73.887389\n",
       "pickup_latitude        40.787579\n",
       "dropoff_longitude     -73.919923\n",
       "dropoff_latitude       40.797626\n",
       "trip_duration        2101.200000\n",
       "Name: 0.95, dtype: float64"
      ]
     },
     "execution_count": 7,
     "metadata": {},
     "output_type": "execute_result"
    }
   ],
   "source": [
    "#out of 95 percent value\n",
    "train_sample1 = pd.DataFrame.quantile(train_sample, q = 0.95)\n",
    "train_sample1"
   ]
  },
  {
   "cell_type": "code",
   "execution_count": 8,
   "metadata": {},
   "outputs": [
    {
     "data": {
      "text/plain": [
       "vendor_id              1.000000\n",
       "passenger_count        1.000000\n",
       "pickup_longitude     -74.006631\n",
       "pickup_latitude       40.709023\n",
       "dropoff_longitude    -74.007607\n",
       "dropoff_latitude      40.700454\n",
       "trip_duration        185.000000\n",
       "Name: 0.05, dtype: float64"
      ]
     },
     "execution_count": 8,
     "metadata": {},
     "output_type": "execute_result"
    }
   ],
   "source": [
    "#out of 5 percent value\n",
    "train_sample2 = pd.DataFrame.quantile(train_sample, q = 0.05)\n",
    "train_sample2"
   ]
  },
  {
   "cell_type": "code",
   "execution_count": 9,
   "metadata": {},
   "outputs": [
    {
     "name": "stdout",
     "output_type": "stream",
     "text": [
      "100879    24\n",
      "203245     5\n",
      "Name: dur_min, dtype: int64\n",
      "100879    2016-03-19 20:53:44\n",
      "203245    2016-04-25 14:31:34\n",
      "1133010   2016-05-04 16:35:10\n",
      "Name: pickup_datetime, dtype: datetime64[ns]\n",
      "100879    2016-03-19 21:18:11\n",
      "203245    2016-04-25 14:37:05\n",
      "1133010   2016-05-04 16:41:07\n",
      "Name: dropoff_datetime, dtype: datetime64[ns]\n",
      "100879    00:24:27\n",
      "203245    00:05:31\n",
      "1133010   00:05:57\n",
      "dtype: timedelta64[ns]\n"
     ]
    }
   ],
   "source": [
    "#train['trip_duration']\n",
    "#convert duration unit : sec to min\n",
    "train_sample[\"pickup_datetime\"] =  pd.to_datetime(train_sample[\"pickup_datetime\"])\n",
    "train_sample[\"dropoff_datetime\"] =  pd.to_datetime(train_sample[\"dropoff_datetime\"])\n",
    "sample_duration = train_sample[\"dropoff_datetime\"] - train_sample[\"pickup_datetime\"]\n",
    "sample_duration_sec = sample_duration.dt.total_seconds().astype('int')\n",
    "train_sample[\"dur_min\"] = (sample_duration_sec / 60).astype('int')\n",
    "print(train_sample['dur_min'][0:2])\n",
    "\n",
    "print(train_sample[\"pickup_datetime\"][0:3])\n",
    "print(train_sample[\"dropoff_datetime\"][0:3])\n",
    "print(train_sample[\"dropoff_datetime\"][0:3] - train_sample[\"pickup_datetime\"][0:3])"
   ]
  },
  {
   "cell_type": "code",
   "execution_count": 10,
   "metadata": {},
   "outputs": [
    {
     "name": "stdout",
     "output_type": "stream",
     "text": [
      "100879     5\n",
      "203245     0\n",
      "1133010    2\n",
      "Name: pick_dayofweek, dtype: int64\n",
      "100879     5\n",
      "203245     0\n",
      "1133010    2\n",
      "Name: drop_dayofweek, dtype: int64\n"
     ]
    }
   ],
   "source": [
    "#day of week\n",
    "#Monday=0, Sunday=6\n",
    "train_sample[\"pick_dayofweek\"] = train_sample[\"pickup_datetime\"].dt.dayofweek\n",
    "train_sample[\"drop_dayofweek\"] = train_sample[\"dropoff_datetime\"].dt.dayofweek\n",
    "print(train_sample[\"pick_dayofweek\"][0:3])\n",
    "print(train_sample[\"drop_dayofweek\"][0:3])"
   ]
  },
  {
   "cell_type": "code",
   "execution_count": 11,
   "metadata": {},
   "outputs": [
    {
     "name": "stdout",
     "output_type": "stream",
     "text": [
      "100879     3\n",
      "203245     4\n",
      "1133010    5\n",
      "Name: pick_dayofmonth, dtype: int64\n",
      "100879     3\n",
      "203245     4\n",
      "1133010    5\n",
      "Name: drop_dayofmonth, dtype: int64\n"
     ]
    }
   ],
   "source": [
    "#day of month\n",
    "train_sample[\"pick_dayofmonth\"] = train_sample[\"pickup_datetime\"].dt.month\n",
    "train_sample[\"drop_dayofmonth\"] = train_sample[\"dropoff_datetime\"].dt.month\n",
    "print(train_sample[\"pick_dayofmonth\"][0:3])\n",
    "print(train_sample[\"drop_dayofmonth\"][0:3])"
   ]
  },
  {
   "cell_type": "code",
   "execution_count": 12,
   "metadata": {},
   "outputs": [
    {
     "name": "stdout",
     "output_type": "stream",
     "text": [
      "100879     20\n",
      "203245     14\n",
      "1133010    16\n",
      "Name: pick_datehour, dtype: int64\n",
      "100879     21\n",
      "203245     14\n",
      "1133010    16\n",
      "Name: drop_datehour, dtype: int64\n"
     ]
    }
   ],
   "source": [
    "#day of hour\n",
    "train_sample[\"pick_datehour\"] = train_sample[\"pickup_datetime\"].dt.hour\n",
    "train_sample[\"drop_datehour\"] = train_sample[\"dropoff_datetime\"].dt.hour\n",
    "print(train_sample[\"pick_datehour\"][0:3])\n",
    "print(train_sample[\"drop_datehour\"][0:3])"
   ]
  },
  {
   "cell_type": "code",
   "execution_count": 26,
   "metadata": {},
   "outputs": [
    {
     "name": "stdout",
     "output_type": "stream",
     "text": [
      "<class 'pandas.core.frame.DataFrame'>\n",
      "Int64Index: 7293 entries, 100879 to 1074490\n",
      "Data columns (total 18 columns):\n",
      "id                    7293 non-null object\n",
      "vendor_id             7293 non-null int64\n",
      "pickup_datetime       7293 non-null datetime64[ns]\n",
      "dropoff_datetime      7293 non-null datetime64[ns]\n",
      "passenger_count       7293 non-null int64\n",
      "pickup_longitude      7293 non-null float64\n",
      "pickup_latitude       7293 non-null float64\n",
      "dropoff_longitude     7293 non-null float64\n",
      "dropoff_latitude      7293 non-null float64\n",
      "store_and_fwd_flag    7293 non-null object\n",
      "trip_duration         7293 non-null int64\n",
      "dur_min               7293 non-null int64\n",
      "pick_dayofweek        7293 non-null int64\n",
      "drop_dayofweek        7293 non-null int64\n",
      "pick_dayofmonth       7293 non-null int64\n",
      "drop_dayofmonth       7293 non-null int64\n",
      "pick_datehour         7293 non-null int64\n",
      "drop_datehour         7293 non-null int64\n",
      "dtypes: datetime64[ns](2), float64(4), int64(10), object(2)\n",
      "memory usage: 1.4+ MB\n"
     ]
    }
   ],
   "source": [
    "train_sample.info()"
   ]
  },
  {
   "cell_type": "code",
   "execution_count": 25,
   "metadata": {},
   "outputs": [
    {
     "data": {
      "text/html": [
       "<div>\n",
       "<style scoped>\n",
       "    .dataframe tbody tr th:only-of-type {\n",
       "        vertical-align: middle;\n",
       "    }\n",
       "\n",
       "    .dataframe tbody tr th {\n",
       "        vertical-align: top;\n",
       "    }\n",
       "\n",
       "    .dataframe thead th {\n",
       "        text-align: right;\n",
       "    }\n",
       "</style>\n",
       "<table border=\"1\" class=\"dataframe\">\n",
       "  <thead>\n",
       "    <tr style=\"text-align: right;\">\n",
       "      <th></th>\n",
       "      <th>id</th>\n",
       "      <th>vendor_id</th>\n",
       "      <th>pickup_datetime</th>\n",
       "      <th>dropoff_datetime</th>\n",
       "      <th>passenger_count</th>\n",
       "      <th>pickup_longitude</th>\n",
       "      <th>pickup_latitude</th>\n",
       "      <th>dropoff_longitude</th>\n",
       "      <th>dropoff_latitude</th>\n",
       "      <th>store_and_fwd_flag</th>\n",
       "      <th>trip_duration</th>\n",
       "      <th>dur_min</th>\n",
       "      <th>pick_dayofweek</th>\n",
       "      <th>drop_dayofweek</th>\n",
       "      <th>pick_dayofmonth</th>\n",
       "      <th>drop_dayofmonth</th>\n",
       "      <th>pick_datehour</th>\n",
       "      <th>drop_datehour</th>\n",
       "    </tr>\n",
       "  </thead>\n",
       "  <tbody>\n",
       "    <tr>\n",
       "      <th>100879</th>\n",
       "      <td>id0673821</td>\n",
       "      <td>2</td>\n",
       "      <td>2016-03-19 20:53:44</td>\n",
       "      <td>2016-03-19 21:18:11</td>\n",
       "      <td>2</td>\n",
       "      <td>-73.990944</td>\n",
       "      <td>40.732998</td>\n",
       "      <td>-73.944931</td>\n",
       "      <td>40.774727</td>\n",
       "      <td>N</td>\n",
       "      <td>1467</td>\n",
       "      <td>24</td>\n",
       "      <td>5</td>\n",
       "      <td>5</td>\n",
       "      <td>3</td>\n",
       "      <td>3</td>\n",
       "      <td>20</td>\n",
       "      <td>21</td>\n",
       "    </tr>\n",
       "    <tr>\n",
       "      <th>203245</th>\n",
       "      <td>id3465534</td>\n",
       "      <td>2</td>\n",
       "      <td>2016-04-25 14:31:34</td>\n",
       "      <td>2016-04-25 14:37:05</td>\n",
       "      <td>2</td>\n",
       "      <td>-73.982185</td>\n",
       "      <td>40.752148</td>\n",
       "      <td>-73.988281</td>\n",
       "      <td>40.742992</td>\n",
       "      <td>N</td>\n",
       "      <td>331</td>\n",
       "      <td>5</td>\n",
       "      <td>0</td>\n",
       "      <td>0</td>\n",
       "      <td>4</td>\n",
       "      <td>4</td>\n",
       "      <td>14</td>\n",
       "      <td>14</td>\n",
       "    </tr>\n",
       "    <tr>\n",
       "      <th>1133010</th>\n",
       "      <td>id1354600</td>\n",
       "      <td>1</td>\n",
       "      <td>2016-05-04 16:35:10</td>\n",
       "      <td>2016-05-04 16:41:07</td>\n",
       "      <td>1</td>\n",
       "      <td>-73.969307</td>\n",
       "      <td>40.760986</td>\n",
       "      <td>-73.978966</td>\n",
       "      <td>40.747524</td>\n",
       "      <td>N</td>\n",
       "      <td>357</td>\n",
       "      <td>5</td>\n",
       "      <td>2</td>\n",
       "      <td>2</td>\n",
       "      <td>5</td>\n",
       "      <td>5</td>\n",
       "      <td>16</td>\n",
       "      <td>16</td>\n",
       "    </tr>\n",
       "    <tr>\n",
       "      <th>961799</th>\n",
       "      <td>id3014975</td>\n",
       "      <td>1</td>\n",
       "      <td>2016-01-16 10:41:51</td>\n",
       "      <td>2016-01-16 10:56:41</td>\n",
       "      <td>1</td>\n",
       "      <td>-73.986877</td>\n",
       "      <td>40.766727</td>\n",
       "      <td>-73.955513</td>\n",
       "      <td>40.826473</td>\n",
       "      <td>N</td>\n",
       "      <td>890</td>\n",
       "      <td>14</td>\n",
       "      <td>5</td>\n",
       "      <td>5</td>\n",
       "      <td>1</td>\n",
       "      <td>1</td>\n",
       "      <td>10</td>\n",
       "      <td>10</td>\n",
       "    </tr>\n",
       "    <tr>\n",
       "      <th>1102498</th>\n",
       "      <td>id0962434</td>\n",
       "      <td>1</td>\n",
       "      <td>2016-01-14 04:30:56</td>\n",
       "      <td>2016-01-14 04:34:37</td>\n",
       "      <td>1</td>\n",
       "      <td>-73.981865</td>\n",
       "      <td>40.758327</td>\n",
       "      <td>-73.991219</td>\n",
       "      <td>40.750141</td>\n",
       "      <td>N</td>\n",
       "      <td>221</td>\n",
       "      <td>3</td>\n",
       "      <td>3</td>\n",
       "      <td>3</td>\n",
       "      <td>1</td>\n",
       "      <td>1</td>\n",
       "      <td>4</td>\n",
       "      <td>4</td>\n",
       "    </tr>\n",
       "  </tbody>\n",
       "</table>\n",
       "</div>"
      ],
      "text/plain": [
       "                id  vendor_id     pickup_datetime    dropoff_datetime  \\\n",
       "100879   id0673821          2 2016-03-19 20:53:44 2016-03-19 21:18:11   \n",
       "203245   id3465534          2 2016-04-25 14:31:34 2016-04-25 14:37:05   \n",
       "1133010  id1354600          1 2016-05-04 16:35:10 2016-05-04 16:41:07   \n",
       "961799   id3014975          1 2016-01-16 10:41:51 2016-01-16 10:56:41   \n",
       "1102498  id0962434          1 2016-01-14 04:30:56 2016-01-14 04:34:37   \n",
       "\n",
       "         passenger_count  pickup_longitude  pickup_latitude  \\\n",
       "100879                 2        -73.990944        40.732998   \n",
       "203245                 2        -73.982185        40.752148   \n",
       "1133010                1        -73.969307        40.760986   \n",
       "961799                 1        -73.986877        40.766727   \n",
       "1102498                1        -73.981865        40.758327   \n",
       "\n",
       "         dropoff_longitude  dropoff_latitude store_and_fwd_flag  \\\n",
       "100879          -73.944931         40.774727                  N   \n",
       "203245          -73.988281         40.742992                  N   \n",
       "1133010         -73.978966         40.747524                  N   \n",
       "961799          -73.955513         40.826473                  N   \n",
       "1102498         -73.991219         40.750141                  N   \n",
       "\n",
       "         trip_duration  dur_min  pick_dayofweek  drop_dayofweek  \\\n",
       "100879            1467       24               5               5   \n",
       "203245             331        5               0               0   \n",
       "1133010            357        5               2               2   \n",
       "961799             890       14               5               5   \n",
       "1102498            221        3               3               3   \n",
       "\n",
       "         pick_dayofmonth  drop_dayofmonth  pick_datehour  drop_datehour  \n",
       "100879                 3                3             20             21  \n",
       "203245                 4                4             14             14  \n",
       "1133010                5                5             16             16  \n",
       "961799                 1                1             10             10  \n",
       "1102498                1                1              4              4  "
      ]
     },
     "execution_count": 25,
     "metadata": {},
     "output_type": "execute_result"
    }
   ],
   "source": [
    "train_sample.head()"
   ]
  },
  {
   "cell_type": "code",
   "execution_count": 24,
   "metadata": {},
   "outputs": [
    {
     "data": {
      "text/html": [
       "<div>\n",
       "<style scoped>\n",
       "    .dataframe tbody tr th:only-of-type {\n",
       "        vertical-align: middle;\n",
       "    }\n",
       "\n",
       "    .dataframe tbody tr th {\n",
       "        vertical-align: top;\n",
       "    }\n",
       "\n",
       "    .dataframe thead th {\n",
       "        text-align: right;\n",
       "    }\n",
       "</style>\n",
       "<table border=\"1\" class=\"dataframe\">\n",
       "  <thead>\n",
       "    <tr style=\"text-align: right;\">\n",
       "      <th></th>\n",
       "      <th>vendor_id</th>\n",
       "      <th>passenger_count</th>\n",
       "      <th>pickup_longitude</th>\n",
       "      <th>pickup_latitude</th>\n",
       "      <th>dropoff_longitude</th>\n",
       "      <th>dropoff_latitude</th>\n",
       "      <th>trip_duration</th>\n",
       "      <th>dur_min</th>\n",
       "      <th>pick_dayofweek</th>\n",
       "      <th>drop_dayofweek</th>\n",
       "      <th>pick_dayofmonth</th>\n",
       "      <th>drop_dayofmonth</th>\n",
       "      <th>pick_datehour</th>\n",
       "      <th>drop_datehour</th>\n",
       "    </tr>\n",
       "  </thead>\n",
       "  <tbody>\n",
       "    <tr>\n",
       "      <th>count</th>\n",
       "      <td>7293.000000</td>\n",
       "      <td>7293.000000</td>\n",
       "      <td>7293.000000</td>\n",
       "      <td>7293.000000</td>\n",
       "      <td>7293.000000</td>\n",
       "      <td>7293.000000</td>\n",
       "      <td>7293.000000</td>\n",
       "      <td>7293.000000</td>\n",
       "      <td>7293.000000</td>\n",
       "      <td>7293.000000</td>\n",
       "      <td>7293.000000</td>\n",
       "      <td>7293.000000</td>\n",
       "      <td>7293.000000</td>\n",
       "      <td>7293.000000</td>\n",
       "    </tr>\n",
       "    <tr>\n",
       "      <th>mean</th>\n",
       "      <td>1.528726</td>\n",
       "      <td>1.667626</td>\n",
       "      <td>-73.973591</td>\n",
       "      <td>40.751095</td>\n",
       "      <td>-73.973485</td>\n",
       "      <td>40.751617</td>\n",
       "      <td>975.675168</td>\n",
       "      <td>15.768134</td>\n",
       "      <td>3.065679</td>\n",
       "      <td>3.066913</td>\n",
       "      <td>3.535445</td>\n",
       "      <td>3.535993</td>\n",
       "      <td>13.756205</td>\n",
       "      <td>13.746469</td>\n",
       "    </tr>\n",
       "    <tr>\n",
       "      <th>std</th>\n",
       "      <td>0.499208</td>\n",
       "      <td>1.326878</td>\n",
       "      <td>0.037878</td>\n",
       "      <td>0.027623</td>\n",
       "      <td>0.036893</td>\n",
       "      <td>0.031980</td>\n",
       "      <td>3415.942518</td>\n",
       "      <td>56.930597</td>\n",
       "      <td>1.953082</td>\n",
       "      <td>1.957423</td>\n",
       "      <td>1.682983</td>\n",
       "      <td>1.683623</td>\n",
       "      <td>6.372602</td>\n",
       "      <td>6.459314</td>\n",
       "    </tr>\n",
       "    <tr>\n",
       "      <th>min</th>\n",
       "      <td>1.000000</td>\n",
       "      <td>1.000000</td>\n",
       "      <td>-74.222603</td>\n",
       "      <td>40.582989</td>\n",
       "      <td>-74.222603</td>\n",
       "      <td>40.556728</td>\n",
       "      <td>2.000000</td>\n",
       "      <td>0.000000</td>\n",
       "      <td>0.000000</td>\n",
       "      <td>0.000000</td>\n",
       "      <td>1.000000</td>\n",
       "      <td>1.000000</td>\n",
       "      <td>0.000000</td>\n",
       "      <td>0.000000</td>\n",
       "    </tr>\n",
       "    <tr>\n",
       "      <th>25%</th>\n",
       "      <td>1.000000</td>\n",
       "      <td>1.000000</td>\n",
       "      <td>-73.991737</td>\n",
       "      <td>40.737495</td>\n",
       "      <td>-73.991188</td>\n",
       "      <td>40.736305</td>\n",
       "      <td>408.000000</td>\n",
       "      <td>6.000000</td>\n",
       "      <td>1.000000</td>\n",
       "      <td>1.000000</td>\n",
       "      <td>2.000000</td>\n",
       "      <td>2.000000</td>\n",
       "      <td>9.000000</td>\n",
       "      <td>9.000000</td>\n",
       "    </tr>\n",
       "    <tr>\n",
       "      <th>50%</th>\n",
       "      <td>2.000000</td>\n",
       "      <td>1.000000</td>\n",
       "      <td>-73.981667</td>\n",
       "      <td>40.754292</td>\n",
       "      <td>-73.979797</td>\n",
       "      <td>40.754429</td>\n",
       "      <td>675.000000</td>\n",
       "      <td>11.000000</td>\n",
       "      <td>3.000000</td>\n",
       "      <td>3.000000</td>\n",
       "      <td>4.000000</td>\n",
       "      <td>4.000000</td>\n",
       "      <td>14.000000</td>\n",
       "      <td>14.000000</td>\n",
       "    </tr>\n",
       "    <tr>\n",
       "      <th>75%</th>\n",
       "      <td>2.000000</td>\n",
       "      <td>2.000000</td>\n",
       "      <td>-73.967194</td>\n",
       "      <td>40.768204</td>\n",
       "      <td>-73.963463</td>\n",
       "      <td>40.769367</td>\n",
       "      <td>1065.000000</td>\n",
       "      <td>17.000000</td>\n",
       "      <td>5.000000</td>\n",
       "      <td>5.000000</td>\n",
       "      <td>5.000000</td>\n",
       "      <td>5.000000</td>\n",
       "      <td>19.000000</td>\n",
       "      <td>19.000000</td>\n",
       "    </tr>\n",
       "    <tr>\n",
       "      <th>max</th>\n",
       "      <td>2.000000</td>\n",
       "      <td>6.000000</td>\n",
       "      <td>-73.776566</td>\n",
       "      <td>40.903709</td>\n",
       "      <td>-73.587265</td>\n",
       "      <td>41.027721</td>\n",
       "      <td>86267.000000</td>\n",
       "      <td>1437.000000</td>\n",
       "      <td>6.000000</td>\n",
       "      <td>6.000000</td>\n",
       "      <td>6.000000</td>\n",
       "      <td>7.000000</td>\n",
       "      <td>23.000000</td>\n",
       "      <td>23.000000</td>\n",
       "    </tr>\n",
       "  </tbody>\n",
       "</table>\n",
       "</div>"
      ],
      "text/plain": [
       "         vendor_id  passenger_count  pickup_longitude  pickup_latitude  \\\n",
       "count  7293.000000      7293.000000       7293.000000      7293.000000   \n",
       "mean      1.528726         1.667626        -73.973591        40.751095   \n",
       "std       0.499208         1.326878          0.037878         0.027623   \n",
       "min       1.000000         1.000000        -74.222603        40.582989   \n",
       "25%       1.000000         1.000000        -73.991737        40.737495   \n",
       "50%       2.000000         1.000000        -73.981667        40.754292   \n",
       "75%       2.000000         2.000000        -73.967194        40.768204   \n",
       "max       2.000000         6.000000        -73.776566        40.903709   \n",
       "\n",
       "       dropoff_longitude  dropoff_latitude  trip_duration      dur_min  \\\n",
       "count        7293.000000       7293.000000    7293.000000  7293.000000   \n",
       "mean          -73.973485         40.751617     975.675168    15.768134   \n",
       "std             0.036893          0.031980    3415.942518    56.930597   \n",
       "min           -74.222603         40.556728       2.000000     0.000000   \n",
       "25%           -73.991188         40.736305     408.000000     6.000000   \n",
       "50%           -73.979797         40.754429     675.000000    11.000000   \n",
       "75%           -73.963463         40.769367    1065.000000    17.000000   \n",
       "max           -73.587265         41.027721   86267.000000  1437.000000   \n",
       "\n",
       "       pick_dayofweek  drop_dayofweek  pick_dayofmonth  drop_dayofmonth  \\\n",
       "count     7293.000000     7293.000000      7293.000000      7293.000000   \n",
       "mean         3.065679        3.066913         3.535445         3.535993   \n",
       "std          1.953082        1.957423         1.682983         1.683623   \n",
       "min          0.000000        0.000000         1.000000         1.000000   \n",
       "25%          1.000000        1.000000         2.000000         2.000000   \n",
       "50%          3.000000        3.000000         4.000000         4.000000   \n",
       "75%          5.000000        5.000000         5.000000         5.000000   \n",
       "max          6.000000        6.000000         6.000000         7.000000   \n",
       "\n",
       "       pick_datehour  drop_datehour  \n",
       "count    7293.000000    7293.000000  \n",
       "mean       13.756205      13.746469  \n",
       "std         6.372602       6.459314  \n",
       "min         0.000000       0.000000  \n",
       "25%         9.000000       9.000000  \n",
       "50%        14.000000      14.000000  \n",
       "75%        19.000000      19.000000  \n",
       "max        23.000000      23.000000  "
      ]
     },
     "execution_count": 24,
     "metadata": {},
     "output_type": "execute_result"
    }
   ],
   "source": [
    "train_sample.describe()"
   ]
  },
  {
   "cell_type": "code",
   "execution_count": 14,
   "metadata": {},
   "outputs": [],
   "source": [
    "# train_sample_1 = train_sample.loc[:,[\"pick_dayofweek\",\"dur_min\"]]\n",
    "# train_sample_1.tail()"
   ]
  },
  {
   "cell_type": "code",
   "execution_count": 16,
   "metadata": {},
   "outputs": [
    {
     "data": {
      "text/plain": [
       "<matplotlib.axes._subplots.AxesSubplot at 0x7f22afa6c6d8>"
      ]
     },
     "execution_count": 16,
     "metadata": {},
     "output_type": "execute_result"
    },
    {
     "data": {
      "image/png": "[encoded data removed]",
      "text/plain": [
       "<matplotlib.figure.Figure at 0x7f22ec375940>"
      ]
     },
     "metadata": {},
     "output_type": "display_data"
    }
   ],
   "source": [
    "sns.distplot(train_sample[\"dur_min\"], bins = 10)"
   ]
  },
  {
   "cell_type": "code",
   "execution_count": 17,
   "metadata": {},
   "outputs": [
    {
     "data": {
      "text/plain": [
       "<seaborn.axisgrid.JointGrid at 0x7f22afa77630>"
      ]
     },
     "execution_count": 17,
     "metadata": {},
     "output_type": "execute_result"
    },
    {
     "data": {
      "image/png": "[encoded data removed]",
      "text/plain": [
       "<matplotlib.figure.Figure at 0x7f22afa77828>"
      ]
     },
     "metadata": {},
     "output_type": "display_data"
    }
   ],
   "source": [
    "sns.jointplot(x = \"pick_dayofweek\", y = \"dur_min\", data = train_sample)"
   ]
  },
  {
   "cell_type": "code",
   "execution_count": 18,
   "metadata": {},
   "outputs": [],
   "source": [
    "# sns.heatmap(train_sample)"
   ]
  },
  {
   "cell_type": "code",
   "execution_count": 19,
   "metadata": {},
   "outputs": [],
   "source": [
    "# test = pd.read_csv(\"~/Documents/taxi_data/test.csv\")\n",
    "# test.head()"
   ]
  },
  {
   "cell_type": "code",
   "execution_count": null,
   "metadata": {},
   "outputs": [],
   "source": []
  },
  {
   "cell_type": "markdown",
   "metadata": {},
   "source": [
    "# Distance between pickup and dropoff location"
   ]
  },
  {
   "cell_type": "code",
   "execution_count": 29,
   "metadata": {},
   "outputs": [
    {
     "name": "stdout",
     "output_type": "stream",
     "text": [
      "Result: 278.54558935106695\n",
      "Should be: 278.546 km\n"
     ]
    }
   ],
   "source": [
    "#test\n",
    "#basic distance calculation\n",
    "#unit = km\n",
    "from math import sin, cos, sqrt, atan2, radians\n",
    "\n",
    "# approximate radius of earth in km\n",
    "R = 6373.0\n",
    "\n",
    "lat1 = radians(52.2296756)\n",
    "lon1 = radians(21.0122287)\n",
    "lat2 = radians(52.406374)\n",
    "lon2 = radians(16.9251681)\n",
    "\n",
    "dlon = lon2 - lon1\n",
    "dlat = lat2 - lat1\n",
    "\n",
    "a = sin(dlat / 2)**2 + cos(lat1) * cos(lat2) * sin(dlon / 2)**2\n",
    "c = 2 * atan2(sqrt(a), sqrt(1 - a))\n",
    "\n",
    "distance = R * c\n",
    "\n",
    "print(\"Result:\", distance)\n",
    "print(\"Should be:\", 278.546, \"km\")"
   ]
  },
  {
   "cell_type": "markdown",
   "metadata": {},
   "source": [
    "# Feature Engineering / Data Cleaning\n",
    "\n",
    "- higher than 100 mile/h (160 km/h) is odd data\n",
    "- longer than 100 mile distance data needs to check out\n",
    "- less than 5 minutes trip duration data needs to check out"
   ]
  },
  {
   "cell_type": "markdown",
   "metadata": {},
   "source": [
    "# Map Visualization\n",
    "\n",
    "- locate pin onto NYC map (pickup location)"
   ]
  },
  {
   "cell_type": "code",
   "execution_count": 20,
   "metadata": {},
   "outputs": [
    {
     "data": {
      "application/vnd.jupyter.widget-view+json": {
       "model_id": "d80e9ec23b0849698d6e7b5a792cd037",
       "version_major": 2,
       "version_minor": 0
      },
      "text/html": [
       "<p>Failed to display Jupyter Widget of type <code>Map</code>.</p>\n",
       "<p>\n",
       "  If you're reading this message in the Jupyter Notebook or JupyterLab Notebook, it may mean\n",
       "  that the widgets JavaScript is still loading. If this message persists, it\n",
       "  likely means that the widgets JavaScript library is either not installed or\n",
       "  not enabled. See the <a href=\"https://ipywidgets.readthedocs.io/en/stable/user_install.html\">Jupyter\n",
       "  Widgets Documentation</a> for setup instructions.\n",
       "</p>\n",
       "<p>\n",
       "  If you're reading this message in another frontend (for example, a static\n",
       "  rendering on GitHub or <a href=\"https://nbviewer.jupyter.org/\">NBViewer</a>),\n",
       "  it may mean that your frontend doesn't currently support widgets.\n",
       "</p>\n"
      ],
      "text/plain": [
       "Map(basemap={'url': 'https://{s}.tile.openstreetmap.org/{z}/{x}/{y}.png', 'max_zoom': 19, 'attribution': 'Map data (c) <a href=\"https://openstreetmap.org\">OpenStreetMap</a> contributors'}, center=[40.75109477208571, -73.97359142776838], default_tiles=TileLayer(max_zoom=19, min_zoom=1, options=['attribution', 'detect_retina', 'max_zoom', 'min_zoom', 'opacity', 'tile_size']), layers=(TileLayer(max_zoom=19, min_zoom=1, options=['attribution', 'detect_retina', 'max_zoom', 'min_zoom', 'opacity', 'tile_size']),), layout=Layout(align_self='stretch', height='400px'), options=['attribution_control', 'basemap', 'bounce_at_zoom_limits', 'box_zoom', 'center', 'close_popup_on_click', 'double_click_zoom', 'dragging', 'inertia', 'inertia_deceleration', 'inertia_max_speed', 'keyboard', 'keyboard_pan_offset', 'keyboard_zoom_offset', 'max_zoom', 'min_zoom', 'scroll_wheel_zoom', 'tap', 'tap_tolerance', 'touch_zoom', 'world_copy_jump', 'zoom', 'zoom_animation_threshold', 'zoom_control', 'zoom_start'])"
      ]
     },
     "metadata": {},
     "output_type": "display_data"
    }
   ],
   "source": [
    "#center location(mean of latitude, longitude)\n",
    "center=[np.mean(train_sample['pickup_latitude']), np.mean(train_sample['pickup_longitude'])]\n",
    "zoom = 12\n",
    "m = Map(center=center, zoom=zoom)\n",
    "m"
   ]
  },
  {
   "cell_type": "code",
   "execution_count": 21,
   "metadata": {},
   "outputs": [],
   "source": [
    "marker = Marker(location=center)\n",
    "m += marker"
   ]
  },
  {
   "cell_type": "code",
   "execution_count": 23,
   "metadata": {},
   "outputs": [
    {
     "name": "stdout",
     "output_type": "stream",
     "text": [
      "0th ping\n",
      "100th ping\n"
     ]
    }
   ],
   "source": [
    "#pickup location pin onto map (0~200th)\n",
    "for i in range(0, 200):\n",
    "    location1=[train_sample.iloc[i, 6], train_sample.iloc[i, 5]]\n",
    "    marker = Marker(location=location1)\n",
    "    m += marker\n",
    "    time.sleep(0.5)\n",
    "    if i % 100 == 0:\n",
    "        print(\"{}th ping\".format(i))\n",
    "\n"
   ]
  },
  {
   "cell_type": "code",
   "execution_count": 22,
   "metadata": {},
   "outputs": [],
   "source": [
    "# #pickup location pin onto map\n",
    "# for i in range(len(train_sample.index)):\n",
    "#     location1=[train_sample.iloc[i, 6], train_sample.iloc[i, 5]]\n",
    "#     marker = Marker(location=location1)\n",
    "#     m += marker\n",
    "#     time.sleep(0.5)\n",
    "#     if i % 100 == 0:\n",
    "#         print(\"{}th ping\".format(i))\n",
    "\n"
   ]
  },
  {
   "cell_type": "code",
   "execution_count": null,
   "metadata": {},
   "outputs": [],
   "source": []
  }
 ],
 "metadata": {
  "kernelspec": {
   "display_name": "Python 3",
   "language": "python",
   "name": "python3"
  },
  "language_info": {
   "codemirror_mode": {
    "name": "ipython",
    "version": 3
   },
   "file_extension": ".py",
   "mimetype": "text/x-python",
   "name": "python",
   "nbconvert_exporter": "python",
   "pygments_lexer": "ipython3",
   "version": "3.6.3"
  }
 },
 "nbformat": 4,
 "nbformat_minor": 2
}
